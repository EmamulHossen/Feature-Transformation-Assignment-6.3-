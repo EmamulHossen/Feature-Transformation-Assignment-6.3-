{
  "nbformat": 4,
  "nbformat_minor": 0,
  "metadata": {
    "colab": {
      "provenance": [],
      "mount_file_id": "1_GtArPW4P3MzKVwlVnO4Pu5dr9_u87Di",
      "authorship_tag": "ABX9TyNblH5bOgAb9XlEUvC2swuI",
      "include_colab_link": true
    },
    "kernelspec": {
      "name": "python3",
      "display_name": "Python 3"
    },
    "language_info": {
      "name": "python"
    }
  },
  "cells": [
    {
      "cell_type": "markdown",
      "metadata": {
        "id": "view-in-github",
        "colab_type": "text"
      },
      "source": [
        "<a href=\"https://colab.research.google.com/github/EmamulHossen/Feature-Transformation-Assignment-6.3-/blob/main/FT(Assignment_6_3).ipynb\" target=\"_parent\"><img src=\"https://colab.research.google.com/assets/colab-badge.svg\" alt=\"Open In Colab\"/></a>"
      ]
    },
    {
      "cell_type": "code",
      "source": [
        "from google.colab import drive"
      ],
      "metadata": {
        "id": "Y0tquIqLafcR"
      },
      "execution_count": 1,
      "outputs": []
    },
    {
      "cell_type": "code",
      "source": [
        "drive.mount(\"/content/drive\")"
      ],
      "metadata": {
        "colab": {
          "base_uri": "https://localhost:8080/"
        },
        "id": "otBEmVbeak1B",
        "outputId": "eb62d6c0-fe6a-464c-f5d0-9738535635f5"
      },
      "execution_count": 2,
      "outputs": [
        {
          "output_type": "stream",
          "name": "stdout",
          "text": [
            "Drive already mounted at /content/drive; to attempt to forcibly remount, call drive.mount(\"/content/drive\", force_remount=True).\n"
          ]
        }
      ]
    },
    {
      "cell_type": "markdown",
      "source": [
        "# **Import Necessary Library**"
      ],
      "metadata": {
        "id": "vY2bv9ZsZ21S"
      }
    },
    {
      "cell_type": "code",
      "execution_count": 99,
      "metadata": {
        "id": "o2ShiBwlZybx"
      },
      "outputs": [],
      "source": [
        "import warnings\n",
        "import pandas as pd\n",
        "import numpy as np\n",
        "import seaborn as sns\n",
        "import matplotlib.pyplot as plt\n",
        "\n",
        "\n",
        "warnings.filterwarnings(\"ignore\")\n",
        "%matplotlib inline"
      ]
    },
    {
      "cell_type": "markdown",
      "source": [
        "#**Part-1 : Data Preprocessing**"
      ],
      "metadata": {
        "id": "RaO5VcjKd49T"
      }
    },
    {
      "cell_type": "markdown",
      "source": [
        "## **Load Dataset**"
      ],
      "metadata": {
        "id": "MflpVFBgbc1X"
      }
    },
    {
      "cell_type": "code",
      "source": [
        "df=pd.read_csv(\"/content/drive/MyDrive/Data/Real estate.csv\")"
      ],
      "metadata": {
        "id": "q-NRhgLHXYwZ"
      },
      "execution_count": 4,
      "outputs": []
    },
    {
      "cell_type": "code",
      "source": [
        "df.head()"
      ],
      "metadata": {
        "colab": {
          "base_uri": "https://localhost:8080/",
          "height": 206
        },
        "id": "6EzVE3IlXbSz",
        "outputId": "7d6acd10-bbc7-4ed1-84fc-8703235910f4"
      },
      "execution_count": 5,
      "outputs": [
        {
          "output_type": "execute_result",
          "data": {
            "text/plain": [
              "   No  X1 transaction date  X2 house age  \\\n",
              "0   1             2012.917          32.0   \n",
              "1   2             2012.917          19.5   \n",
              "2   3             2013.583          13.3   \n",
              "3   4             2013.500          13.3   \n",
              "4   5             2012.833           5.0   \n",
              "\n",
              "   X3 distance to the nearest MRT station  X4 number of convenience stores  \\\n",
              "0                                84.87882                               10   \n",
              "1                               306.59470                                9   \n",
              "2                               561.98450                                5   \n",
              "3                               561.98450                                5   \n",
              "4                               390.56840                                5   \n",
              "\n",
              "   X5 latitude  X6 longitude  Y house price of unit area  \n",
              "0     24.98298     121.54024                        37.9  \n",
              "1     24.98034     121.53951                        42.2  \n",
              "2     24.98746     121.54391                        47.3  \n",
              "3     24.98746     121.54391                        54.8  \n",
              "4     24.97937     121.54245                        43.1  "
            ],
            "text/html": [
              "\n",
              "  <div id=\"df-d36c3cd3-5d99-4e64-927e-1455a6193d90\" class=\"colab-df-container\">\n",
              "    <div>\n",
              "<style scoped>\n",
              "    .dataframe tbody tr th:only-of-type {\n",
              "        vertical-align: middle;\n",
              "    }\n",
              "\n",
              "    .dataframe tbody tr th {\n",
              "        vertical-align: top;\n",
              "    }\n",
              "\n",
              "    .dataframe thead th {\n",
              "        text-align: right;\n",
              "    }\n",
              "</style>\n",
              "<table border=\"1\" class=\"dataframe\">\n",
              "  <thead>\n",
              "    <tr style=\"text-align: right;\">\n",
              "      <th></th>\n",
              "      <th>No</th>\n",
              "      <th>X1 transaction date</th>\n",
              "      <th>X2 house age</th>\n",
              "      <th>X3 distance to the nearest MRT station</th>\n",
              "      <th>X4 number of convenience stores</th>\n",
              "      <th>X5 latitude</th>\n",
              "      <th>X6 longitude</th>\n",
              "      <th>Y house price of unit area</th>\n",
              "    </tr>\n",
              "  </thead>\n",
              "  <tbody>\n",
              "    <tr>\n",
              "      <th>0</th>\n",
              "      <td>1</td>\n",
              "      <td>2012.917</td>\n",
              "      <td>32.0</td>\n",
              "      <td>84.87882</td>\n",
              "      <td>10</td>\n",
              "      <td>24.98298</td>\n",
              "      <td>121.54024</td>\n",
              "      <td>37.9</td>\n",
              "    </tr>\n",
              "    <tr>\n",
              "      <th>1</th>\n",
              "      <td>2</td>\n",
              "      <td>2012.917</td>\n",
              "      <td>19.5</td>\n",
              "      <td>306.59470</td>\n",
              "      <td>9</td>\n",
              "      <td>24.98034</td>\n",
              "      <td>121.53951</td>\n",
              "      <td>42.2</td>\n",
              "    </tr>\n",
              "    <tr>\n",
              "      <th>2</th>\n",
              "      <td>3</td>\n",
              "      <td>2013.583</td>\n",
              "      <td>13.3</td>\n",
              "      <td>561.98450</td>\n",
              "      <td>5</td>\n",
              "      <td>24.98746</td>\n",
              "      <td>121.54391</td>\n",
              "      <td>47.3</td>\n",
              "    </tr>\n",
              "    <tr>\n",
              "      <th>3</th>\n",
              "      <td>4</td>\n",
              "      <td>2013.500</td>\n",
              "      <td>13.3</td>\n",
              "      <td>561.98450</td>\n",
              "      <td>5</td>\n",
              "      <td>24.98746</td>\n",
              "      <td>121.54391</td>\n",
              "      <td>54.8</td>\n",
              "    </tr>\n",
              "    <tr>\n",
              "      <th>4</th>\n",
              "      <td>5</td>\n",
              "      <td>2012.833</td>\n",
              "      <td>5.0</td>\n",
              "      <td>390.56840</td>\n",
              "      <td>5</td>\n",
              "      <td>24.97937</td>\n",
              "      <td>121.54245</td>\n",
              "      <td>43.1</td>\n",
              "    </tr>\n",
              "  </tbody>\n",
              "</table>\n",
              "</div>\n",
              "    <div class=\"colab-df-buttons\">\n",
              "\n",
              "  <div class=\"colab-df-container\">\n",
              "    <button class=\"colab-df-convert\" onclick=\"convertToInteractive('df-d36c3cd3-5d99-4e64-927e-1455a6193d90')\"\n",
              "            title=\"Convert this dataframe to an interactive table.\"\n",
              "            style=\"display:none;\">\n",
              "\n",
              "  <svg xmlns=\"http://www.w3.org/2000/svg\" height=\"24px\" viewBox=\"0 -960 960 960\">\n",
              "    <path d=\"M120-120v-720h720v720H120Zm60-500h600v-160H180v160Zm220 220h160v-160H400v160Zm0 220h160v-160H400v160ZM180-400h160v-160H180v160Zm440 0h160v-160H620v160ZM180-180h160v-160H180v160Zm440 0h160v-160H620v160Z\"/>\n",
              "  </svg>\n",
              "    </button>\n",
              "\n",
              "  <style>\n",
              "    .colab-df-container {\n",
              "      display:flex;\n",
              "      gap: 12px;\n",
              "    }\n",
              "\n",
              "    .colab-df-convert {\n",
              "      background-color: #E8F0FE;\n",
              "      border: none;\n",
              "      border-radius: 50%;\n",
              "      cursor: pointer;\n",
              "      display: none;\n",
              "      fill: #1967D2;\n",
              "      height: 32px;\n",
              "      padding: 0 0 0 0;\n",
              "      width: 32px;\n",
              "    }\n",
              "\n",
              "    .colab-df-convert:hover {\n",
              "      background-color: #E2EBFA;\n",
              "      box-shadow: 0px 1px 2px rgba(60, 64, 67, 0.3), 0px 1px 3px 1px rgba(60, 64, 67, 0.15);\n",
              "      fill: #174EA6;\n",
              "    }\n",
              "\n",
              "    .colab-df-buttons div {\n",
              "      margin-bottom: 4px;\n",
              "    }\n",
              "\n",
              "    [theme=dark] .colab-df-convert {\n",
              "      background-color: #3B4455;\n",
              "      fill: #D2E3FC;\n",
              "    }\n",
              "\n",
              "    [theme=dark] .colab-df-convert:hover {\n",
              "      background-color: #434B5C;\n",
              "      box-shadow: 0px 1px 3px 1px rgba(0, 0, 0, 0.15);\n",
              "      filter: drop-shadow(0px 1px 2px rgba(0, 0, 0, 0.3));\n",
              "      fill: #FFFFFF;\n",
              "    }\n",
              "  </style>\n",
              "\n",
              "    <script>\n",
              "      const buttonEl =\n",
              "        document.querySelector('#df-d36c3cd3-5d99-4e64-927e-1455a6193d90 button.colab-df-convert');\n",
              "      buttonEl.style.display =\n",
              "        google.colab.kernel.accessAllowed ? 'block' : 'none';\n",
              "\n",
              "      async function convertToInteractive(key) {\n",
              "        const element = document.querySelector('#df-d36c3cd3-5d99-4e64-927e-1455a6193d90');\n",
              "        const dataTable =\n",
              "          await google.colab.kernel.invokeFunction('convertToInteractive',\n",
              "                                                    [key], {});\n",
              "        if (!dataTable) return;\n",
              "\n",
              "        const docLinkHtml = 'Like what you see? Visit the ' +\n",
              "          '<a target=\"_blank\" href=https://colab.research.google.com/notebooks/data_table.ipynb>data table notebook</a>'\n",
              "          + ' to learn more about interactive tables.';\n",
              "        element.innerHTML = '';\n",
              "        dataTable['output_type'] = 'display_data';\n",
              "        await google.colab.output.renderOutput(dataTable, element);\n",
              "        const docLink = document.createElement('div');\n",
              "        docLink.innerHTML = docLinkHtml;\n",
              "        element.appendChild(docLink);\n",
              "      }\n",
              "    </script>\n",
              "  </div>\n",
              "\n",
              "\n",
              "<div id=\"df-fecc36a0-d452-4762-9b49-9ee832e68cd7\">\n",
              "  <button class=\"colab-df-quickchart\" onclick=\"quickchart('df-fecc36a0-d452-4762-9b49-9ee832e68cd7')\"\n",
              "            title=\"Suggest charts.\"\n",
              "            style=\"display:none;\">\n",
              "\n",
              "<svg xmlns=\"http://www.w3.org/2000/svg\" height=\"24px\"viewBox=\"0 0 24 24\"\n",
              "     width=\"24px\">\n",
              "    <g>\n",
              "        <path d=\"M19 3H5c-1.1 0-2 .9-2 2v14c0 1.1.9 2 2 2h14c1.1 0 2-.9 2-2V5c0-1.1-.9-2-2-2zM9 17H7v-7h2v7zm4 0h-2V7h2v10zm4 0h-2v-4h2v4z\"/>\n",
              "    </g>\n",
              "</svg>\n",
              "  </button>\n",
              "\n",
              "<style>\n",
              "  .colab-df-quickchart {\n",
              "    background-color: #E8F0FE;\n",
              "    border: none;\n",
              "    border-radius: 50%;\n",
              "    cursor: pointer;\n",
              "    display: none;\n",
              "    fill: #1967D2;\n",
              "    height: 32px;\n",
              "    padding: 0 0 0 0;\n",
              "    width: 32px;\n",
              "  }\n",
              "\n",
              "  .colab-df-quickchart:hover {\n",
              "    background-color: #E2EBFA;\n",
              "    box-shadow: 0px 1px 2px rgba(60, 64, 67, 0.3), 0px 1px 3px 1px rgba(60, 64, 67, 0.15);\n",
              "    fill: #174EA6;\n",
              "  }\n",
              "\n",
              "  [theme=dark] .colab-df-quickchart {\n",
              "    background-color: #3B4455;\n",
              "    fill: #D2E3FC;\n",
              "  }\n",
              "\n",
              "  [theme=dark] .colab-df-quickchart:hover {\n",
              "    background-color: #434B5C;\n",
              "    box-shadow: 0px 1px 3px 1px rgba(0, 0, 0, 0.15);\n",
              "    filter: drop-shadow(0px 1px 2px rgba(0, 0, 0, 0.3));\n",
              "    fill: #FFFFFF;\n",
              "  }\n",
              "</style>\n",
              "\n",
              "  <script>\n",
              "    async function quickchart(key) {\n",
              "      const charts = await google.colab.kernel.invokeFunction(\n",
              "          'suggestCharts', [key], {});\n",
              "    }\n",
              "    (() => {\n",
              "      let quickchartButtonEl =\n",
              "        document.querySelector('#df-fecc36a0-d452-4762-9b49-9ee832e68cd7 button');\n",
              "      quickchartButtonEl.style.display =\n",
              "        google.colab.kernel.accessAllowed ? 'block' : 'none';\n",
              "    })();\n",
              "  </script>\n",
              "</div>\n",
              "    </div>\n",
              "  </div>\n"
            ]
          },
          "metadata": {},
          "execution_count": 5
        }
      ]
    },
    {
      "cell_type": "code",
      "source": [
        "#Check the shape of dataset\n",
        "df.shape"
      ],
      "metadata": {
        "colab": {
          "base_uri": "https://localhost:8080/"
        },
        "id": "_4g_0LE8XbMS",
        "outputId": "8f9f5d6a-44ec-4b99-bdb3-3ea1340261be"
      },
      "execution_count": 6,
      "outputs": [
        {
          "output_type": "execute_result",
          "data": {
            "text/plain": [
              "(414, 8)"
            ]
          },
          "metadata": {},
          "execution_count": 6
        }
      ]
    },
    {
      "cell_type": "code",
      "source": [
        "#Check the shape of dataset\n",
        "print(\"Shape of the dataset: {}\".format(df.shape))\n",
        "print(\"Shape of dataset: Number of Row:{},Number of Column:{}\".format(df.shape[0],df.shape[1]))"
      ],
      "metadata": {
        "colab": {
          "base_uri": "https://localhost:8080/"
        },
        "id": "vugTiNSnXbIR",
        "outputId": "e6cc6a9f-7d60-41e5-e961-2eb203327954"
      },
      "execution_count": 7,
      "outputs": [
        {
          "output_type": "stream",
          "name": "stdout",
          "text": [
            "Shape of the dataset: (414, 8)\n",
            "Shape of dataset: Number of Row:414,Number of Column:8\n"
          ]
        }
      ]
    },
    {
      "cell_type": "markdown",
      "source": [
        "**Checking the null/ missing value**"
      ],
      "metadata": {
        "id": "8qNzt_-UeiWC"
      }
    },
    {
      "cell_type": "code",
      "source": [
        "missing_value=df.isnull().any()"
      ],
      "metadata": {
        "id": "SunCw_XAXa5N"
      },
      "execution_count": 8,
      "outputs": []
    },
    {
      "cell_type": "code",
      "source": [
        "missing_value"
      ],
      "metadata": {
        "colab": {
          "base_uri": "https://localhost:8080/"
        },
        "id": "WpZkl2GfXa1V",
        "outputId": "62b88bcc-2075-4ce4-f09b-0be46e7180c0"
      },
      "execution_count": 9,
      "outputs": [
        {
          "output_type": "execute_result",
          "data": {
            "text/plain": [
              "No                                        False\n",
              "X1 transaction date                       False\n",
              "X2 house age                              False\n",
              "X3 distance to the nearest MRT station    False\n",
              "X4 number of convenience stores           False\n",
              "X5 latitude                               False\n",
              "X6 longitude                              False\n",
              "Y house price of unit area                False\n",
              "dtype: bool"
            ]
          },
          "metadata": {},
          "execution_count": 9
        }
      ]
    },
    {
      "cell_type": "code",
      "source": [
        "missing_value=df.isnull().sum()"
      ],
      "metadata": {
        "id": "IYjnook6XaxH"
      },
      "execution_count": 10,
      "outputs": []
    },
    {
      "cell_type": "code",
      "source": [
        "missing_value"
      ],
      "metadata": {
        "colab": {
          "base_uri": "https://localhost:8080/"
        },
        "id": "qIeSY511Xasp",
        "outputId": "de1e7978-6bed-4404-856a-6c848c9c9380"
      },
      "execution_count": 11,
      "outputs": [
        {
          "output_type": "execute_result",
          "data": {
            "text/plain": [
              "No                                        0\n",
              "X1 transaction date                       0\n",
              "X2 house age                              0\n",
              "X3 distance to the nearest MRT station    0\n",
              "X4 number of convenience stores           0\n",
              "X5 latitude                               0\n",
              "X6 longitude                              0\n",
              "Y house price of unit area                0\n",
              "dtype: int64"
            ]
          },
          "metadata": {},
          "execution_count": 11
        }
      ]
    },
    {
      "cell_type": "markdown",
      "source": [
        "**Extract the feature column(x1 to x6)**"
      ],
      "metadata": {
        "id": "FPdji_U4fkzK"
      }
    },
    {
      "cell_type": "code",
      "source": [
        "x=df.drop(columns=[\"No\",\"Y house price of unit area\"],axis=1)"
      ],
      "metadata": {
        "id": "UtbgXjgHXapA"
      },
      "execution_count": 12,
      "outputs": []
    },
    {
      "cell_type": "code",
      "source": [
        "x.head() # Show the first five row"
      ],
      "metadata": {
        "colab": {
          "base_uri": "https://localhost:8080/",
          "height": 206
        },
        "id": "_iaphIiOXalI",
        "outputId": "3166b3fd-041e-495b-de87-0298e16cf4bf"
      },
      "execution_count": 13,
      "outputs": [
        {
          "output_type": "execute_result",
          "data": {
            "text/plain": [
              "   X1 transaction date  X2 house age  X3 distance to the nearest MRT station  \\\n",
              "0             2012.917          32.0                                84.87882   \n",
              "1             2012.917          19.5                               306.59470   \n",
              "2             2013.583          13.3                               561.98450   \n",
              "3             2013.500          13.3                               561.98450   \n",
              "4             2012.833           5.0                               390.56840   \n",
              "\n",
              "   X4 number of convenience stores  X5 latitude  X6 longitude  \n",
              "0                               10     24.98298     121.54024  \n",
              "1                                9     24.98034     121.53951  \n",
              "2                                5     24.98746     121.54391  \n",
              "3                                5     24.98746     121.54391  \n",
              "4                                5     24.97937     121.54245  "
            ],
            "text/html": [
              "\n",
              "  <div id=\"df-3bebbfab-44ca-42d9-8e9f-1bfd56ddfc99\" class=\"colab-df-container\">\n",
              "    <div>\n",
              "<style scoped>\n",
              "    .dataframe tbody tr th:only-of-type {\n",
              "        vertical-align: middle;\n",
              "    }\n",
              "\n",
              "    .dataframe tbody tr th {\n",
              "        vertical-align: top;\n",
              "    }\n",
              "\n",
              "    .dataframe thead th {\n",
              "        text-align: right;\n",
              "    }\n",
              "</style>\n",
              "<table border=\"1\" class=\"dataframe\">\n",
              "  <thead>\n",
              "    <tr style=\"text-align: right;\">\n",
              "      <th></th>\n",
              "      <th>X1 transaction date</th>\n",
              "      <th>X2 house age</th>\n",
              "      <th>X3 distance to the nearest MRT station</th>\n",
              "      <th>X4 number of convenience stores</th>\n",
              "      <th>X5 latitude</th>\n",
              "      <th>X6 longitude</th>\n",
              "    </tr>\n",
              "  </thead>\n",
              "  <tbody>\n",
              "    <tr>\n",
              "      <th>0</th>\n",
              "      <td>2012.917</td>\n",
              "      <td>32.0</td>\n",
              "      <td>84.87882</td>\n",
              "      <td>10</td>\n",
              "      <td>24.98298</td>\n",
              "      <td>121.54024</td>\n",
              "    </tr>\n",
              "    <tr>\n",
              "      <th>1</th>\n",
              "      <td>2012.917</td>\n",
              "      <td>19.5</td>\n",
              "      <td>306.59470</td>\n",
              "      <td>9</td>\n",
              "      <td>24.98034</td>\n",
              "      <td>121.53951</td>\n",
              "    </tr>\n",
              "    <tr>\n",
              "      <th>2</th>\n",
              "      <td>2013.583</td>\n",
              "      <td>13.3</td>\n",
              "      <td>561.98450</td>\n",
              "      <td>5</td>\n",
              "      <td>24.98746</td>\n",
              "      <td>121.54391</td>\n",
              "    </tr>\n",
              "    <tr>\n",
              "      <th>3</th>\n",
              "      <td>2013.500</td>\n",
              "      <td>13.3</td>\n",
              "      <td>561.98450</td>\n",
              "      <td>5</td>\n",
              "      <td>24.98746</td>\n",
              "      <td>121.54391</td>\n",
              "    </tr>\n",
              "    <tr>\n",
              "      <th>4</th>\n",
              "      <td>2012.833</td>\n",
              "      <td>5.0</td>\n",
              "      <td>390.56840</td>\n",
              "      <td>5</td>\n",
              "      <td>24.97937</td>\n",
              "      <td>121.54245</td>\n",
              "    </tr>\n",
              "  </tbody>\n",
              "</table>\n",
              "</div>\n",
              "    <div class=\"colab-df-buttons\">\n",
              "\n",
              "  <div class=\"colab-df-container\">\n",
              "    <button class=\"colab-df-convert\" onclick=\"convertToInteractive('df-3bebbfab-44ca-42d9-8e9f-1bfd56ddfc99')\"\n",
              "            title=\"Convert this dataframe to an interactive table.\"\n",
              "            style=\"display:none;\">\n",
              "\n",
              "  <svg xmlns=\"http://www.w3.org/2000/svg\" height=\"24px\" viewBox=\"0 -960 960 960\">\n",
              "    <path d=\"M120-120v-720h720v720H120Zm60-500h600v-160H180v160Zm220 220h160v-160H400v160Zm0 220h160v-160H400v160ZM180-400h160v-160H180v160Zm440 0h160v-160H620v160ZM180-180h160v-160H180v160Zm440 0h160v-160H620v160Z\"/>\n",
              "  </svg>\n",
              "    </button>\n",
              "\n",
              "  <style>\n",
              "    .colab-df-container {\n",
              "      display:flex;\n",
              "      gap: 12px;\n",
              "    }\n",
              "\n",
              "    .colab-df-convert {\n",
              "      background-color: #E8F0FE;\n",
              "      border: none;\n",
              "      border-radius: 50%;\n",
              "      cursor: pointer;\n",
              "      display: none;\n",
              "      fill: #1967D2;\n",
              "      height: 32px;\n",
              "      padding: 0 0 0 0;\n",
              "      width: 32px;\n",
              "    }\n",
              "\n",
              "    .colab-df-convert:hover {\n",
              "      background-color: #E2EBFA;\n",
              "      box-shadow: 0px 1px 2px rgba(60, 64, 67, 0.3), 0px 1px 3px 1px rgba(60, 64, 67, 0.15);\n",
              "      fill: #174EA6;\n",
              "    }\n",
              "\n",
              "    .colab-df-buttons div {\n",
              "      margin-bottom: 4px;\n",
              "    }\n",
              "\n",
              "    [theme=dark] .colab-df-convert {\n",
              "      background-color: #3B4455;\n",
              "      fill: #D2E3FC;\n",
              "    }\n",
              "\n",
              "    [theme=dark] .colab-df-convert:hover {\n",
              "      background-color: #434B5C;\n",
              "      box-shadow: 0px 1px 3px 1px rgba(0, 0, 0, 0.15);\n",
              "      filter: drop-shadow(0px 1px 2px rgba(0, 0, 0, 0.3));\n",
              "      fill: #FFFFFF;\n",
              "    }\n",
              "  </style>\n",
              "\n",
              "    <script>\n",
              "      const buttonEl =\n",
              "        document.querySelector('#df-3bebbfab-44ca-42d9-8e9f-1bfd56ddfc99 button.colab-df-convert');\n",
              "      buttonEl.style.display =\n",
              "        google.colab.kernel.accessAllowed ? 'block' : 'none';\n",
              "\n",
              "      async function convertToInteractive(key) {\n",
              "        const element = document.querySelector('#df-3bebbfab-44ca-42d9-8e9f-1bfd56ddfc99');\n",
              "        const dataTable =\n",
              "          await google.colab.kernel.invokeFunction('convertToInteractive',\n",
              "                                                    [key], {});\n",
              "        if (!dataTable) return;\n",
              "\n",
              "        const docLinkHtml = 'Like what you see? Visit the ' +\n",
              "          '<a target=\"_blank\" href=https://colab.research.google.com/notebooks/data_table.ipynb>data table notebook</a>'\n",
              "          + ' to learn more about interactive tables.';\n",
              "        element.innerHTML = '';\n",
              "        dataTable['output_type'] = 'display_data';\n",
              "        await google.colab.output.renderOutput(dataTable, element);\n",
              "        const docLink = document.createElement('div');\n",
              "        docLink.innerHTML = docLinkHtml;\n",
              "        element.appendChild(docLink);\n",
              "      }\n",
              "    </script>\n",
              "  </div>\n",
              "\n",
              "\n",
              "<div id=\"df-7fe8396a-d85c-44f6-8978-4ddce2bb236c\">\n",
              "  <button class=\"colab-df-quickchart\" onclick=\"quickchart('df-7fe8396a-d85c-44f6-8978-4ddce2bb236c')\"\n",
              "            title=\"Suggest charts.\"\n",
              "            style=\"display:none;\">\n",
              "\n",
              "<svg xmlns=\"http://www.w3.org/2000/svg\" height=\"24px\"viewBox=\"0 0 24 24\"\n",
              "     width=\"24px\">\n",
              "    <g>\n",
              "        <path d=\"M19 3H5c-1.1 0-2 .9-2 2v14c0 1.1.9 2 2 2h14c1.1 0 2-.9 2-2V5c0-1.1-.9-2-2-2zM9 17H7v-7h2v7zm4 0h-2V7h2v10zm4 0h-2v-4h2v4z\"/>\n",
              "    </g>\n",
              "</svg>\n",
              "  </button>\n",
              "\n",
              "<style>\n",
              "  .colab-df-quickchart {\n",
              "    background-color: #E8F0FE;\n",
              "    border: none;\n",
              "    border-radius: 50%;\n",
              "    cursor: pointer;\n",
              "    display: none;\n",
              "    fill: #1967D2;\n",
              "    height: 32px;\n",
              "    padding: 0 0 0 0;\n",
              "    width: 32px;\n",
              "  }\n",
              "\n",
              "  .colab-df-quickchart:hover {\n",
              "    background-color: #E2EBFA;\n",
              "    box-shadow: 0px 1px 2px rgba(60, 64, 67, 0.3), 0px 1px 3px 1px rgba(60, 64, 67, 0.15);\n",
              "    fill: #174EA6;\n",
              "  }\n",
              "\n",
              "  [theme=dark] .colab-df-quickchart {\n",
              "    background-color: #3B4455;\n",
              "    fill: #D2E3FC;\n",
              "  }\n",
              "\n",
              "  [theme=dark] .colab-df-quickchart:hover {\n",
              "    background-color: #434B5C;\n",
              "    box-shadow: 0px 1px 3px 1px rgba(0, 0, 0, 0.15);\n",
              "    filter: drop-shadow(0px 1px 2px rgba(0, 0, 0, 0.3));\n",
              "    fill: #FFFFFF;\n",
              "  }\n",
              "</style>\n",
              "\n",
              "  <script>\n",
              "    async function quickchart(key) {\n",
              "      const charts = await google.colab.kernel.invokeFunction(\n",
              "          'suggestCharts', [key], {});\n",
              "    }\n",
              "    (() => {\n",
              "      let quickchartButtonEl =\n",
              "        document.querySelector('#df-7fe8396a-d85c-44f6-8978-4ddce2bb236c button');\n",
              "      quickchartButtonEl.style.display =\n",
              "        google.colab.kernel.accessAllowed ? 'block' : 'none';\n",
              "    })();\n",
              "  </script>\n",
              "</div>\n",
              "    </div>\n",
              "  </div>\n"
            ]
          },
          "metadata": {},
          "execution_count": 13
        }
      ]
    },
    {
      "cell_type": "code",
      "source": [
        "x.tail() # Showing the last five row used tail function"
      ],
      "metadata": {
        "colab": {
          "base_uri": "https://localhost:8080/",
          "height": 206
        },
        "id": "Mulw_HqtXahg",
        "outputId": "7e10f6a5-0869-40e1-d362-20e1bad594f7"
      },
      "execution_count": 14,
      "outputs": [
        {
          "output_type": "execute_result",
          "data": {
            "text/plain": [
              "     X1 transaction date  X2 house age  \\\n",
              "409             2013.000          13.7   \n",
              "410             2012.667           5.6   \n",
              "411             2013.250          18.8   \n",
              "412             2013.000           8.1   \n",
              "413             2013.500           6.5   \n",
              "\n",
              "     X3 distance to the nearest MRT station  X4 number of convenience stores  \\\n",
              "409                              4082.01500                                0   \n",
              "410                                90.45606                                9   \n",
              "411                               390.96960                                7   \n",
              "412                               104.81010                                5   \n",
              "413                                90.45606                                9   \n",
              "\n",
              "     X5 latitude  X6 longitude  \n",
              "409     24.94155     121.50381  \n",
              "410     24.97433     121.54310  \n",
              "411     24.97923     121.53986  \n",
              "412     24.96674     121.54067  \n",
              "413     24.97433     121.54310  "
            ],
            "text/html": [
              "\n",
              "  <div id=\"df-050ebf9e-836d-4b8d-a52b-23d0d2013987\" class=\"colab-df-container\">\n",
              "    <div>\n",
              "<style scoped>\n",
              "    .dataframe tbody tr th:only-of-type {\n",
              "        vertical-align: middle;\n",
              "    }\n",
              "\n",
              "    .dataframe tbody tr th {\n",
              "        vertical-align: top;\n",
              "    }\n",
              "\n",
              "    .dataframe thead th {\n",
              "        text-align: right;\n",
              "    }\n",
              "</style>\n",
              "<table border=\"1\" class=\"dataframe\">\n",
              "  <thead>\n",
              "    <tr style=\"text-align: right;\">\n",
              "      <th></th>\n",
              "      <th>X1 transaction date</th>\n",
              "      <th>X2 house age</th>\n",
              "      <th>X3 distance to the nearest MRT station</th>\n",
              "      <th>X4 number of convenience stores</th>\n",
              "      <th>X5 latitude</th>\n",
              "      <th>X6 longitude</th>\n",
              "    </tr>\n",
              "  </thead>\n",
              "  <tbody>\n",
              "    <tr>\n",
              "      <th>409</th>\n",
              "      <td>2013.000</td>\n",
              "      <td>13.7</td>\n",
              "      <td>4082.01500</td>\n",
              "      <td>0</td>\n",
              "      <td>24.94155</td>\n",
              "      <td>121.50381</td>\n",
              "    </tr>\n",
              "    <tr>\n",
              "      <th>410</th>\n",
              "      <td>2012.667</td>\n",
              "      <td>5.6</td>\n",
              "      <td>90.45606</td>\n",
              "      <td>9</td>\n",
              "      <td>24.97433</td>\n",
              "      <td>121.54310</td>\n",
              "    </tr>\n",
              "    <tr>\n",
              "      <th>411</th>\n",
              "      <td>2013.250</td>\n",
              "      <td>18.8</td>\n",
              "      <td>390.96960</td>\n",
              "      <td>7</td>\n",
              "      <td>24.97923</td>\n",
              "      <td>121.53986</td>\n",
              "    </tr>\n",
              "    <tr>\n",
              "      <th>412</th>\n",
              "      <td>2013.000</td>\n",
              "      <td>8.1</td>\n",
              "      <td>104.81010</td>\n",
              "      <td>5</td>\n",
              "      <td>24.96674</td>\n",
              "      <td>121.54067</td>\n",
              "    </tr>\n",
              "    <tr>\n",
              "      <th>413</th>\n",
              "      <td>2013.500</td>\n",
              "      <td>6.5</td>\n",
              "      <td>90.45606</td>\n",
              "      <td>9</td>\n",
              "      <td>24.97433</td>\n",
              "      <td>121.54310</td>\n",
              "    </tr>\n",
              "  </tbody>\n",
              "</table>\n",
              "</div>\n",
              "    <div class=\"colab-df-buttons\">\n",
              "\n",
              "  <div class=\"colab-df-container\">\n",
              "    <button class=\"colab-df-convert\" onclick=\"convertToInteractive('df-050ebf9e-836d-4b8d-a52b-23d0d2013987')\"\n",
              "            title=\"Convert this dataframe to an interactive table.\"\n",
              "            style=\"display:none;\">\n",
              "\n",
              "  <svg xmlns=\"http://www.w3.org/2000/svg\" height=\"24px\" viewBox=\"0 -960 960 960\">\n",
              "    <path d=\"M120-120v-720h720v720H120Zm60-500h600v-160H180v160Zm220 220h160v-160H400v160Zm0 220h160v-160H400v160ZM180-400h160v-160H180v160Zm440 0h160v-160H620v160ZM180-180h160v-160H180v160Zm440 0h160v-160H620v160Z\"/>\n",
              "  </svg>\n",
              "    </button>\n",
              "\n",
              "  <style>\n",
              "    .colab-df-container {\n",
              "      display:flex;\n",
              "      gap: 12px;\n",
              "    }\n",
              "\n",
              "    .colab-df-convert {\n",
              "      background-color: #E8F0FE;\n",
              "      border: none;\n",
              "      border-radius: 50%;\n",
              "      cursor: pointer;\n",
              "      display: none;\n",
              "      fill: #1967D2;\n",
              "      height: 32px;\n",
              "      padding: 0 0 0 0;\n",
              "      width: 32px;\n",
              "    }\n",
              "\n",
              "    .colab-df-convert:hover {\n",
              "      background-color: #E2EBFA;\n",
              "      box-shadow: 0px 1px 2px rgba(60, 64, 67, 0.3), 0px 1px 3px 1px rgba(60, 64, 67, 0.15);\n",
              "      fill: #174EA6;\n",
              "    }\n",
              "\n",
              "    .colab-df-buttons div {\n",
              "      margin-bottom: 4px;\n",
              "    }\n",
              "\n",
              "    [theme=dark] .colab-df-convert {\n",
              "      background-color: #3B4455;\n",
              "      fill: #D2E3FC;\n",
              "    }\n",
              "\n",
              "    [theme=dark] .colab-df-convert:hover {\n",
              "      background-color: #434B5C;\n",
              "      box-shadow: 0px 1px 3px 1px rgba(0, 0, 0, 0.15);\n",
              "      filter: drop-shadow(0px 1px 2px rgba(0, 0, 0, 0.3));\n",
              "      fill: #FFFFFF;\n",
              "    }\n",
              "  </style>\n",
              "\n",
              "    <script>\n",
              "      const buttonEl =\n",
              "        document.querySelector('#df-050ebf9e-836d-4b8d-a52b-23d0d2013987 button.colab-df-convert');\n",
              "      buttonEl.style.display =\n",
              "        google.colab.kernel.accessAllowed ? 'block' : 'none';\n",
              "\n",
              "      async function convertToInteractive(key) {\n",
              "        const element = document.querySelector('#df-050ebf9e-836d-4b8d-a52b-23d0d2013987');\n",
              "        const dataTable =\n",
              "          await google.colab.kernel.invokeFunction('convertToInteractive',\n",
              "                                                    [key], {});\n",
              "        if (!dataTable) return;\n",
              "\n",
              "        const docLinkHtml = 'Like what you see? Visit the ' +\n",
              "          '<a target=\"_blank\" href=https://colab.research.google.com/notebooks/data_table.ipynb>data table notebook</a>'\n",
              "          + ' to learn more about interactive tables.';\n",
              "        element.innerHTML = '';\n",
              "        dataTable['output_type'] = 'display_data';\n",
              "        await google.colab.output.renderOutput(dataTable, element);\n",
              "        const docLink = document.createElement('div');\n",
              "        docLink.innerHTML = docLinkHtml;\n",
              "        element.appendChild(docLink);\n",
              "      }\n",
              "    </script>\n",
              "  </div>\n",
              "\n",
              "\n",
              "<div id=\"df-c836fe55-b828-45d6-91fc-54445d15d501\">\n",
              "  <button class=\"colab-df-quickchart\" onclick=\"quickchart('df-c836fe55-b828-45d6-91fc-54445d15d501')\"\n",
              "            title=\"Suggest charts.\"\n",
              "            style=\"display:none;\">\n",
              "\n",
              "<svg xmlns=\"http://www.w3.org/2000/svg\" height=\"24px\"viewBox=\"0 0 24 24\"\n",
              "     width=\"24px\">\n",
              "    <g>\n",
              "        <path d=\"M19 3H5c-1.1 0-2 .9-2 2v14c0 1.1.9 2 2 2h14c1.1 0 2-.9 2-2V5c0-1.1-.9-2-2-2zM9 17H7v-7h2v7zm4 0h-2V7h2v10zm4 0h-2v-4h2v4z\"/>\n",
              "    </g>\n",
              "</svg>\n",
              "  </button>\n",
              "\n",
              "<style>\n",
              "  .colab-df-quickchart {\n",
              "    background-color: #E8F0FE;\n",
              "    border: none;\n",
              "    border-radius: 50%;\n",
              "    cursor: pointer;\n",
              "    display: none;\n",
              "    fill: #1967D2;\n",
              "    height: 32px;\n",
              "    padding: 0 0 0 0;\n",
              "    width: 32px;\n",
              "  }\n",
              "\n",
              "  .colab-df-quickchart:hover {\n",
              "    background-color: #E2EBFA;\n",
              "    box-shadow: 0px 1px 2px rgba(60, 64, 67, 0.3), 0px 1px 3px 1px rgba(60, 64, 67, 0.15);\n",
              "    fill: #174EA6;\n",
              "  }\n",
              "\n",
              "  [theme=dark] .colab-df-quickchart {\n",
              "    background-color: #3B4455;\n",
              "    fill: #D2E3FC;\n",
              "  }\n",
              "\n",
              "  [theme=dark] .colab-df-quickchart:hover {\n",
              "    background-color: #434B5C;\n",
              "    box-shadow: 0px 1px 3px 1px rgba(0, 0, 0, 0.15);\n",
              "    filter: drop-shadow(0px 1px 2px rgba(0, 0, 0, 0.3));\n",
              "    fill: #FFFFFF;\n",
              "  }\n",
              "</style>\n",
              "\n",
              "  <script>\n",
              "    async function quickchart(key) {\n",
              "      const charts = await google.colab.kernel.invokeFunction(\n",
              "          'suggestCharts', [key], {});\n",
              "    }\n",
              "    (() => {\n",
              "      let quickchartButtonEl =\n",
              "        document.querySelector('#df-c836fe55-b828-45d6-91fc-54445d15d501 button');\n",
              "      quickchartButtonEl.style.display =\n",
              "        google.colab.kernel.accessAllowed ? 'block' : 'none';\n",
              "    })();\n",
              "  </script>\n",
              "</div>\n",
              "    </div>\n",
              "  </div>\n"
            ]
          },
          "metadata": {},
          "execution_count": 14
        }
      ]
    },
    {
      "cell_type": "code",
      "source": [
        "y=df[\"Y house price of unit area\"]"
      ],
      "metadata": {
        "id": "tKPTFuBLiLTM"
      },
      "execution_count": 15,
      "outputs": []
    },
    {
      "cell_type": "code",
      "source": [
        "y.head()"
      ],
      "metadata": {
        "colab": {
          "base_uri": "https://localhost:8080/"
        },
        "id": "uA4IBJmeiVLr",
        "outputId": "8bd8c96c-9d3c-4d9b-8cef-aa8c43710719"
      },
      "execution_count": 16,
      "outputs": [
        {
          "output_type": "execute_result",
          "data": {
            "text/plain": [
              "0    37.9\n",
              "1    42.2\n",
              "2    47.3\n",
              "3    54.8\n",
              "4    43.1\n",
              "Name: Y house price of unit area, dtype: float64"
            ]
          },
          "metadata": {},
          "execution_count": 16
        }
      ]
    },
    {
      "cell_type": "markdown",
      "source": [
        "**Split the dataset into features(x) as 70% traing and 30% testing ratio**"
      ],
      "metadata": {
        "id": "eONHB3sGhIDz"
      }
    },
    {
      "cell_type": "code",
      "source": [
        "from sklearn.model_selection import train_test_split"
      ],
      "metadata": {
        "id": "tuNuqLKeXaeM"
      },
      "execution_count": 17,
      "outputs": []
    },
    {
      "cell_type": "code",
      "source": [
        "X_train, X_test, y_train, y_test = train_test_split( x, y, test_size=0.30, random_state=42)"
      ],
      "metadata": {
        "id": "qOSg05YCXaa4"
      },
      "execution_count": 18,
      "outputs": []
    },
    {
      "cell_type": "code",
      "source": [
        "print(\"Shape of X_train:\",X_train.shape)\n",
        "print(\"Shape of X_test :\",X_test.shape)\n",
        "print(\"Shape of y_train\",y_train.shape)\n",
        "print(\"Shape of y_test:\",y_test.shape)"
      ],
      "metadata": {
        "id": "p-nODIPHXaXC",
        "colab": {
          "base_uri": "https://localhost:8080/"
        },
        "outputId": "5c5efad3-2dc0-40d2-9b93-e99a1b3570bd"
      },
      "execution_count": 19,
      "outputs": [
        {
          "output_type": "stream",
          "name": "stdout",
          "text": [
            "Shape of X_train: (289, 6)\n",
            "Shape of X_test : (125, 6)\n",
            "Shape of y_train (289,)\n",
            "Shape of y_test: (125,)\n"
          ]
        }
      ]
    },
    {
      "cell_type": "markdown",
      "source": [
        "# **Linear Regression**\n",
        ">**Without Feature Scaling**\n",
        "\n"
      ],
      "metadata": {
        "id": "SeGouljS5jae"
      }
    },
    {
      "cell_type": "code",
      "source": [
        "from sklearn.linear_model import LinearRegression"
      ],
      "metadata": {
        "id": "F0RPzerx3QeV"
      },
      "execution_count": 20,
      "outputs": []
    },
    {
      "cell_type": "code",
      "source": [
        "LR_model=LinearRegression()"
      ],
      "metadata": {
        "id": "5_y8EnSD3QWH"
      },
      "execution_count": 21,
      "outputs": []
    },
    {
      "cell_type": "code",
      "source": [
        "LR_model.fit(X_train,y_train)"
      ],
      "metadata": {
        "colab": {
          "base_uri": "https://localhost:8080/",
          "height": 75
        },
        "id": "31Drsicq3QPn",
        "outputId": "c3b1fc9f-91fa-4e38-df35-a2e635cb9b48"
      },
      "execution_count": 22,
      "outputs": [
        {
          "output_type": "execute_result",
          "data": {
            "text/plain": [
              "LinearRegression()"
            ],
            "text/html": [
              "<style>#sk-container-id-1 {color: black;background-color: white;}#sk-container-id-1 pre{padding: 0;}#sk-container-id-1 div.sk-toggleable {background-color: white;}#sk-container-id-1 label.sk-toggleable__label {cursor: pointer;display: block;width: 100%;margin-bottom: 0;padding: 0.3em;box-sizing: border-box;text-align: center;}#sk-container-id-1 label.sk-toggleable__label-arrow:before {content: \"▸\";float: left;margin-right: 0.25em;color: #696969;}#sk-container-id-1 label.sk-toggleable__label-arrow:hover:before {color: black;}#sk-container-id-1 div.sk-estimator:hover label.sk-toggleable__label-arrow:before {color: black;}#sk-container-id-1 div.sk-toggleable__content {max-height: 0;max-width: 0;overflow: hidden;text-align: left;background-color: #f0f8ff;}#sk-container-id-1 div.sk-toggleable__content pre {margin: 0.2em;color: black;border-radius: 0.25em;background-color: #f0f8ff;}#sk-container-id-1 input.sk-toggleable__control:checked~div.sk-toggleable__content {max-height: 200px;max-width: 100%;overflow: auto;}#sk-container-id-1 input.sk-toggleable__control:checked~label.sk-toggleable__label-arrow:before {content: \"▾\";}#sk-container-id-1 div.sk-estimator input.sk-toggleable__control:checked~label.sk-toggleable__label {background-color: #d4ebff;}#sk-container-id-1 div.sk-label input.sk-toggleable__control:checked~label.sk-toggleable__label {background-color: #d4ebff;}#sk-container-id-1 input.sk-hidden--visually {border: 0;clip: rect(1px 1px 1px 1px);clip: rect(1px, 1px, 1px, 1px);height: 1px;margin: -1px;overflow: hidden;padding: 0;position: absolute;width: 1px;}#sk-container-id-1 div.sk-estimator {font-family: monospace;background-color: #f0f8ff;border: 1px dotted black;border-radius: 0.25em;box-sizing: border-box;margin-bottom: 0.5em;}#sk-container-id-1 div.sk-estimator:hover {background-color: #d4ebff;}#sk-container-id-1 div.sk-parallel-item::after {content: \"\";width: 100%;border-bottom: 1px solid gray;flex-grow: 1;}#sk-container-id-1 div.sk-label:hover label.sk-toggleable__label {background-color: #d4ebff;}#sk-container-id-1 div.sk-serial::before {content: \"\";position: absolute;border-left: 1px solid gray;box-sizing: border-box;top: 0;bottom: 0;left: 50%;z-index: 0;}#sk-container-id-1 div.sk-serial {display: flex;flex-direction: column;align-items: center;background-color: white;padding-right: 0.2em;padding-left: 0.2em;position: relative;}#sk-container-id-1 div.sk-item {position: relative;z-index: 1;}#sk-container-id-1 div.sk-parallel {display: flex;align-items: stretch;justify-content: center;background-color: white;position: relative;}#sk-container-id-1 div.sk-item::before, #sk-container-id-1 div.sk-parallel-item::before {content: \"\";position: absolute;border-left: 1px solid gray;box-sizing: border-box;top: 0;bottom: 0;left: 50%;z-index: -1;}#sk-container-id-1 div.sk-parallel-item {display: flex;flex-direction: column;z-index: 1;position: relative;background-color: white;}#sk-container-id-1 div.sk-parallel-item:first-child::after {align-self: flex-end;width: 50%;}#sk-container-id-1 div.sk-parallel-item:last-child::after {align-self: flex-start;width: 50%;}#sk-container-id-1 div.sk-parallel-item:only-child::after {width: 0;}#sk-container-id-1 div.sk-dashed-wrapped {border: 1px dashed gray;margin: 0 0.4em 0.5em 0.4em;box-sizing: border-box;padding-bottom: 0.4em;background-color: white;}#sk-container-id-1 div.sk-label label {font-family: monospace;font-weight: bold;display: inline-block;line-height: 1.2em;}#sk-container-id-1 div.sk-label-container {text-align: center;}#sk-container-id-1 div.sk-container {/* jupyter's `normalize.less` sets `[hidden] { display: none; }` but bootstrap.min.css set `[hidden] { display: none !important; }` so we also need the `!important` here to be able to override the default hidden behavior on the sphinx rendered scikit-learn.org. See: https://github.com/scikit-learn/scikit-learn/issues/21755 */display: inline-block !important;position: relative;}#sk-container-id-1 div.sk-text-repr-fallback {display: none;}</style><div id=\"sk-container-id-1\" class=\"sk-top-container\"><div class=\"sk-text-repr-fallback\"><pre>LinearRegression()</pre><b>In a Jupyter environment, please rerun this cell to show the HTML representation or trust the notebook. <br />On GitHub, the HTML representation is unable to render, please try loading this page with nbviewer.org.</b></div><div class=\"sk-container\" hidden><div class=\"sk-item\"><div class=\"sk-estimator sk-toggleable\"><input class=\"sk-toggleable__control sk-hidden--visually\" id=\"sk-estimator-id-1\" type=\"checkbox\" checked><label for=\"sk-estimator-id-1\" class=\"sk-toggleable__label sk-toggleable__label-arrow\">LinearRegression</label><div class=\"sk-toggleable__content\"><pre>LinearRegression()</pre></div></div></div></div></div>"
            ]
          },
          "metadata": {},
          "execution_count": 22
        }
      ]
    },
    {
      "cell_type": "markdown",
      "source": [
        "**Coefficients**"
      ],
      "metadata": {
        "id": "KlCXJIR54qrl"
      }
    },
    {
      "cell_type": "code",
      "source": [
        "#Slope\n",
        "m_=LR_model.coef_"
      ],
      "metadata": {
        "id": "CsM8GFGZ3QKE"
      },
      "execution_count": 23,
      "outputs": []
    },
    {
      "cell_type": "code",
      "source": [
        "m_"
      ],
      "metadata": {
        "colab": {
          "base_uri": "https://localhost:8080/"
        },
        "id": "LFXCtVn13P-9",
        "outputId": "cf85ea11-c313-49aa-fb19-f782fc99756f"
      },
      "execution_count": 24,
      "outputs": [
        {
          "output_type": "execute_result",
          "data": {
            "text/plain": [
              "array([ 5.84779706e+00, -2.42545813e-01, -5.13873381e-03,  1.07449530e+00,\n",
              "        2.39096949e+02, -5.22351591e+01])"
            ]
          },
          "metadata": {},
          "execution_count": 24
        }
      ]
    },
    {
      "cell_type": "code",
      "source": [
        "#Intercept\n",
        "c_=LR_model.intercept_"
      ],
      "metadata": {
        "id": "V4zemY2L5G6C"
      },
      "execution_count": 25,
      "outputs": []
    },
    {
      "cell_type": "code",
      "source": [
        "c_"
      ],
      "metadata": {
        "colab": {
          "base_uri": "https://localhost:8080/"
        },
        "id": "XSQt25bX5G11",
        "outputId": "42d07f00-a3b9-4cf3-86a2-cf1f12f51c45"
      },
      "execution_count": 26,
      "outputs": [
        {
          "output_type": "execute_result",
          "data": {
            "text/plain": [
              "-11350.740518771527"
            ]
          },
          "metadata": {},
          "execution_count": 26
        }
      ]
    },
    {
      "cell_type": "code",
      "source": [
        "y_train_predict=LR_model.predict(X_train)"
      ],
      "metadata": {
        "id": "twzaNzSs6SSr"
      },
      "execution_count": 27,
      "outputs": []
    },
    {
      "cell_type": "code",
      "source": [
        "y_train_predict"
      ],
      "metadata": {
        "colab": {
          "base_uri": "https://localhost:8080/"
        },
        "id": "RJdoplju6SNe",
        "outputId": "57fbc58a-cc2b-468a-ff8e-da4f55b688ee"
      },
      "execution_count": 28,
      "outputs": [
        {
          "output_type": "execute_result",
          "data": {
            "text/plain": [
              "array([47.32074756, 15.10754801, 46.95629589, 11.8601291 , 30.6116461 ,\n",
              "       35.23397379, 40.42310691, 45.50708821, 40.18349801, 36.83495501,\n",
              "       34.09696749, 37.70337476, 27.79080015, 34.70049596, 24.55194289,\n",
              "       37.13787565, 44.68117429, 52.45976408, 37.23468772, 47.94245238,\n",
              "       41.42892542, 42.58464002, 43.23127535, 45.21550123, 31.44630639,\n",
              "       44.81269688, 30.47900933, 39.20917476, 42.19179401, 54.35199522,\n",
              "       44.25551663, 34.41635164, 40.73665437, 45.86719965, 43.01690126,\n",
              "       39.93460642, 38.88477727, 48.29378192, 37.07582259, 45.12882333,\n",
              "       41.07510261, 34.66401256, 12.08437271, 43.15586926, 38.14849191,\n",
              "       43.15586926, 51.38405277, 45.93279355, 34.48071984, 38.91388548,\n",
              "       27.84017764, 51.68302612, 43.89392614, 16.18414497, 41.27000829,\n",
              "       47.34623383, 46.08764064, 43.82061184, 28.00014687, 44.91111927,\n",
              "       44.64675952, 53.42977007, 43.91060764, 44.86743814, 38.26205457,\n",
              "        6.172469  , 43.99788821, 47.56691057, 29.88167717, 29.4147168 ,\n",
              "       41.07637641, 34.32974357, 34.04540263, 47.34623383, 35.92608196,\n",
              "       38.74245726, 16.10217259, 11.64846965, 12.03833649, 49.60501506,\n",
              "       47.55430212, 40.74627888, 47.62074396, 29.67977628, 44.51935363,\n",
              "       45.64361553, 43.13016811, 44.1650313 , 40.49757119, 46.6095013 ,\n",
              "       15.37685644, 43.42524049, 45.9302199 , 43.13016811, 39.04184045,\n",
              "       44.48425306, 43.3457631 , 52.9628097 , 47.82164644, 31.04008806,\n",
              "       53.73353665, 33.96150555, 40.21575858, 30.25030087, 24.30413391,\n",
              "       35.53260587, 12.03833649, 55.06544543, 37.05010811, 34.56828629,\n",
              "       14.47303808, 45.20490438, 30.18809909,  8.35255619, 41.23164604,\n",
              "       31.29511728, 43.71538323, 15.84028079, 46.3763799 , 43.19663952,\n",
              "       49.2764069 , 49.10293041, 11.40436455, 27.09263458, 38.53542349,\n",
              "       26.33413388, 42.00410142, 45.55520682, 42.03605497, 54.81968391,\n",
              "       42.67866017, 39.94634299, 31.57797806, 48.79469044, 49.21370435,\n",
              "       30.80390232, 39.54025386, 47.72550438, 31.56604163, 47.43990649,\n",
              "       47.5722348 , 44.48347983, 48.36398192, 33.40900868, 30.18879254,\n",
              "       39.26127286, 40.64686945, 32.85616039, 43.27266569, 12.20670274,\n",
              "       41.88391944, 45.11358353, 45.45502444, 39.42350722, 44.05824105,\n",
              "       22.90631719, 33.44132603, 31.14640633, 45.83699368, 46.11502952,\n",
              "       15.86453537, 40.90674815, 50.67187498, 30.12248207, 46.71919743,\n",
              "       42.47741593, 45.75304359, 37.9917357 , 43.72638665, 45.26783962,\n",
              "       12.57423082, 36.32533327, 51.52511502, 47.86661749, 47.50559438,\n",
              "       39.18755341, 46.60817597, 50.34477706, 38.59229829, 31.49517709,\n",
              "       37.0701843 , 33.42617982, 41.5211826 , 42.03724503, 30.66907831,\n",
              "       36.34958785, 37.84562594, 48.495704  , 11.67272423, 32.36243753,\n",
              "       39.02079878, 29.61749281, 30.17472025, 37.93761564,  8.78941418,\n",
              "       32.91071029, 45.11595359, 45.96423268, 27.4132388 , 13.27761368,\n",
              "       50.89283782, 42.57106527, 33.3923034 , 40.80293442, 52.26446256,\n",
              "       54.6754689 , 34.78133943, 38.00808213, 30.80929697, 49.15106356,\n",
              "       23.96771964, 47.01437943, 40.79279837, 34.52572468, 31.89787033,\n",
              "       48.18070526, 42.15254198, 40.49310003, 41.66152093, 44.70059771,\n",
              "       25.56294071, 32.35898291, 47.96893929, 41.54484001, 47.84233935,\n",
              "        8.65072241, 44.74737244, 37.49684722, 46.99938327, 35.88847528,\n",
              "       38.91388548, 50.46830278, 36.09620677, 40.26091173, 40.16964826,\n",
              "       47.20192462, 26.58670677, 36.58844252, 37.00300444, 43.31947675,\n",
              "       51.38405277, 34.36929094, 24.22373311, 36.84534629, 43.51238236,\n",
              "       45.50312011, 36.13430934, 47.48981565, 45.62519391, 50.51538784,\n",
              "       42.34287948, 51.78794367, 12.57654259, 47.09318717, 19.44321144,\n",
              "       29.41819405, 13.30364613, 12.13810101, 29.11696502, 43.01011348,\n",
              "       50.1359295 , 49.42305646, 46.41816089, 46.8153983 , 37.07436269,\n",
              "       38.9243922 , 51.43965554, 42.13706194, 43.17531034, 40.38392395,\n",
              "       47.50559438, 40.43264704, 45.38336261, 54.66160959, 27.05061331,\n",
              "       53.42977007, 39.96199434, 16.32564794, 24.80504652, 36.21394915,\n",
              "       43.91060764, 53.89088265, 35.18795266, 42.68542485, 35.76541808,\n",
              "       47.92973267, 43.16707667, 46.61407849, 47.06308717])"
            ]
          },
          "metadata": {},
          "execution_count": 28
        }
      ]
    },
    {
      "cell_type": "code",
      "source": [
        "y_train"
      ],
      "metadata": {
        "colab": {
          "base_uri": "https://localhost:8080/"
        },
        "id": "YhBTdjSF6SJE",
        "outputId": "b8932411-cd67-4ccc-a5db-2d61e9ed252a"
      },
      "execution_count": 29,
      "outputs": [
        {
          "output_type": "execute_result",
          "data": {
            "text/plain": [
              "7       46.7\n",
              "194     29.3\n",
              "19      47.7\n",
              "176     19.2\n",
              "367     20.9\n",
              "       ...  \n",
              "71      40.8\n",
              "106     47.1\n",
              "270    117.5\n",
              "348     53.7\n",
              "102     54.4\n",
              "Name: Y house price of unit area, Length: 289, dtype: float64"
            ]
          },
          "metadata": {},
          "execution_count": 29
        }
      ]
    },
    {
      "cell_type": "code",
      "source": [
        "y_test_predict=LR_model.predict(X_test)"
      ],
      "metadata": {
        "id": "-rFP7okK6SEW"
      },
      "execution_count": 30,
      "outputs": []
    },
    {
      "cell_type": "code",
      "source": [
        "y_test_predict"
      ],
      "metadata": {
        "colab": {
          "base_uri": "https://localhost:8080/"
        },
        "id": "6DjBMIc26R_W",
        "outputId": "ca893dae-3ad3-4ce8-e32f-5e115bad207c"
      },
      "execution_count": 31,
      "outputs": [
        {
          "output_type": "execute_result",
          "data": {
            "text/plain": [
              "array([47.55430212, 41.08372744, 44.25551663, 40.51685112, 27.43467608,\n",
              "       45.85435624, 44.70296876, 46.57752144, 23.86072119, 54.35199522,\n",
              "       34.63011363, 36.34958785, 37.34518438, 23.49428018, 36.02735916,\n",
              "       34.56828629, 44.01823263, 45.04246804, 29.9554971 , 43.96338099,\n",
              "        0.09450675, 35.291724  , 48.09455663, 45.54503941, 10.6006418 ,\n",
              "       39.9786752 , 11.9116313 , 42.79356737, 35.67204264, 38.09573519,\n",
              "       12.98819108, 40.13164278, 35.44632378, 27.09263458, 46.57230583,\n",
              "       32.08134705, 50.62714445, 13.2533591 , 49.8007962 , 40.83574406,\n",
              "       39.02898306, 40.92260381, 47.61743515, 37.68719274, 39.67028734,\n",
              "       46.64468542, 43.57375428, 19.40851794, 46.95629589, 45.93056809,\n",
              "       48.03966928, 48.79469044, 43.06419598, 43.00021216, 36.56049741,\n",
              "       14.20568662, 37.31495695, 34.30916207, 28.33264665, 46.09215428,\n",
              "       32.92580137, 32.83028385, 14.20568662,  8.3906898 ,  9.79703308,\n",
              "       34.33939647, 27.76485421, 46.75860125, 33.77722462, 30.85241149,\n",
              "       45.70501009, 39.07276122, 45.50942841, 45.00472078, 35.59161518,\n",
              "       37.74197487, 38.450681  , 37.63852526, 40.76300959, 33.88758966,\n",
              "       42.52501106, 43.31378324, 27.56441871, 39.40936415, 33.8977811 ,\n",
              "       30.61439071, 39.93460642, 45.36129734, 34.86088945, 39.96760778,\n",
              "       12.55982   , 41.4248276 , 41.87470921, 48.61756325, 46.67493517,\n",
              "       40.34138938, 34.2628639 , 45.3400411 , 32.29706728, 47.46416107,\n",
              "       29.69148895, 34.11146083, 43.36677103, 30.63583283, 48.77316661,\n",
              "       49.23795893, 30.34082584, 26.11105207, 40.9879696 , 38.89338679,\n",
              "       37.24238803, 40.02563617, 48.48697441, 45.26509346, 18.10869352,\n",
              "       41.23164604, 45.60093933, 43.63953623, 31.35568965, 31.75622985,\n",
              "       46.20909815, 14.58093806, 50.40747066, 46.60197459, 37.99631926])"
            ]
          },
          "metadata": {},
          "execution_count": 31
        }
      ]
    },
    {
      "cell_type": "code",
      "source": [
        "y_test"
      ],
      "metadata": {
        "colab": {
          "base_uri": "https://localhost:8080/"
        },
        "id": "QXzVYPRM6R2l",
        "outputId": "df219ba3-e74e-4b52-afca-8326ef39ee11"
      },
      "execution_count": 32,
      "outputs": [
        {
          "output_type": "execute_result",
          "data": {
            "text/plain": [
              "358    45.1\n",
              "350    42.3\n",
              "373    52.2\n",
              "399    37.3\n",
              "369    22.8\n",
              "       ... \n",
              "268    40.1\n",
              "148    45.1\n",
              "16     70.1\n",
              "66     50.7\n",
              "341    37.0\n",
              "Name: Y house price of unit area, Length: 125, dtype: float64"
            ]
          },
          "metadata": {},
          "execution_count": 32
        }
      ]
    },
    {
      "cell_type": "code",
      "source": [
        "#Accuracy\n",
        "LR_model_accuracy=LR_model.score(X_test,y_test)"
      ],
      "metadata": {
        "id": "HMUnfwhB7JOZ"
      },
      "execution_count": 33,
      "outputs": []
    },
    {
      "cell_type": "code",
      "source": [
        "LR_model_accuracy"
      ],
      "metadata": {
        "colab": {
          "base_uri": "https://localhost:8080/"
        },
        "id": "MIhG1JK67JAe",
        "outputId": "20d5818e-12e3-4fa7-91bd-ccd0bf735c8f"
      },
      "execution_count": 34,
      "outputs": [
        {
          "output_type": "execute_result",
          "data": {
            "text/plain": [
              "0.5600638168604195"
            ]
          },
          "metadata": {},
          "execution_count": 34
        }
      ]
    },
    {
      "cell_type": "markdown",
      "source": [
        "**Feature Scaling**"
      ],
      "metadata": {
        "id": "FfrQbyrX54d1"
      }
    },
    {
      "cell_type": "code",
      "source": [
        "for i in x:\n",
        "    mean = x[i].mean()\n",
        "    std = x[i].std()\n",
        "    x[i] = (x[i] - mean) / std\n",
        "\n",
        "x.head()"
      ],
      "metadata": {
        "id": "uJIt6n_AXaTl",
        "colab": {
          "base_uri": "https://localhost:8080/",
          "height": 206
        },
        "outputId": "e42f2346-cb67-4ac9-8085-c07bab0cffd9"
      },
      "execution_count": 35,
      "outputs": [
        {
          "output_type": "execute_result",
          "data": {
            "text/plain": [
              "   X1 transaction date  X2 house age  X3 distance to the nearest MRT station  \\\n",
              "0            -0.822688      1.254111                               -0.791537   \n",
              "1            -0.822688      0.156896                               -0.615866   \n",
              "2             1.539289     -0.387322                               -0.413515   \n",
              "3             1.244928     -0.387322                               -0.413515   \n",
              "4            -1.120595     -1.115873                               -0.549332   \n",
              "\n",
              "   X4 number of convenience stores  X5 latitude  X6 longitude  \n",
              "0                         2.004982     1.124070      0.448220  \n",
              "1                         1.665488     0.911342      0.400654  \n",
              "2                         0.307513     1.485063      0.687352  \n",
              "3                         0.307513     1.485063      0.687352  \n",
              "4                         0.307513     0.833180      0.592220  "
            ],
            "text/html": [
              "\n",
              "  <div id=\"df-ae80970d-6c33-49ac-84d4-15ec1207b2f7\" class=\"colab-df-container\">\n",
              "    <div>\n",
              "<style scoped>\n",
              "    .dataframe tbody tr th:only-of-type {\n",
              "        vertical-align: middle;\n",
              "    }\n",
              "\n",
              "    .dataframe tbody tr th {\n",
              "        vertical-align: top;\n",
              "    }\n",
              "\n",
              "    .dataframe thead th {\n",
              "        text-align: right;\n",
              "    }\n",
              "</style>\n",
              "<table border=\"1\" class=\"dataframe\">\n",
              "  <thead>\n",
              "    <tr style=\"text-align: right;\">\n",
              "      <th></th>\n",
              "      <th>X1 transaction date</th>\n",
              "      <th>X2 house age</th>\n",
              "      <th>X3 distance to the nearest MRT station</th>\n",
              "      <th>X4 number of convenience stores</th>\n",
              "      <th>X5 latitude</th>\n",
              "      <th>X6 longitude</th>\n",
              "    </tr>\n",
              "  </thead>\n",
              "  <tbody>\n",
              "    <tr>\n",
              "      <th>0</th>\n",
              "      <td>-0.822688</td>\n",
              "      <td>1.254111</td>\n",
              "      <td>-0.791537</td>\n",
              "      <td>2.004982</td>\n",
              "      <td>1.124070</td>\n",
              "      <td>0.448220</td>\n",
              "    </tr>\n",
              "    <tr>\n",
              "      <th>1</th>\n",
              "      <td>-0.822688</td>\n",
              "      <td>0.156896</td>\n",
              "      <td>-0.615866</td>\n",
              "      <td>1.665488</td>\n",
              "      <td>0.911342</td>\n",
              "      <td>0.400654</td>\n",
              "    </tr>\n",
              "    <tr>\n",
              "      <th>2</th>\n",
              "      <td>1.539289</td>\n",
              "      <td>-0.387322</td>\n",
              "      <td>-0.413515</td>\n",
              "      <td>0.307513</td>\n",
              "      <td>1.485063</td>\n",
              "      <td>0.687352</td>\n",
              "    </tr>\n",
              "    <tr>\n",
              "      <th>3</th>\n",
              "      <td>1.244928</td>\n",
              "      <td>-0.387322</td>\n",
              "      <td>-0.413515</td>\n",
              "      <td>0.307513</td>\n",
              "      <td>1.485063</td>\n",
              "      <td>0.687352</td>\n",
              "    </tr>\n",
              "    <tr>\n",
              "      <th>4</th>\n",
              "      <td>-1.120595</td>\n",
              "      <td>-1.115873</td>\n",
              "      <td>-0.549332</td>\n",
              "      <td>0.307513</td>\n",
              "      <td>0.833180</td>\n",
              "      <td>0.592220</td>\n",
              "    </tr>\n",
              "  </tbody>\n",
              "</table>\n",
              "</div>\n",
              "    <div class=\"colab-df-buttons\">\n",
              "\n",
              "  <div class=\"colab-df-container\">\n",
              "    <button class=\"colab-df-convert\" onclick=\"convertToInteractive('df-ae80970d-6c33-49ac-84d4-15ec1207b2f7')\"\n",
              "            title=\"Convert this dataframe to an interactive table.\"\n",
              "            style=\"display:none;\">\n",
              "\n",
              "  <svg xmlns=\"http://www.w3.org/2000/svg\" height=\"24px\" viewBox=\"0 -960 960 960\">\n",
              "    <path d=\"M120-120v-720h720v720H120Zm60-500h600v-160H180v160Zm220 220h160v-160H400v160Zm0 220h160v-160H400v160ZM180-400h160v-160H180v160Zm440 0h160v-160H620v160ZM180-180h160v-160H180v160Zm440 0h160v-160H620v160Z\"/>\n",
              "  </svg>\n",
              "    </button>\n",
              "\n",
              "  <style>\n",
              "    .colab-df-container {\n",
              "      display:flex;\n",
              "      gap: 12px;\n",
              "    }\n",
              "\n",
              "    .colab-df-convert {\n",
              "      background-color: #E8F0FE;\n",
              "      border: none;\n",
              "      border-radius: 50%;\n",
              "      cursor: pointer;\n",
              "      display: none;\n",
              "      fill: #1967D2;\n",
              "      height: 32px;\n",
              "      padding: 0 0 0 0;\n",
              "      width: 32px;\n",
              "    }\n",
              "\n",
              "    .colab-df-convert:hover {\n",
              "      background-color: #E2EBFA;\n",
              "      box-shadow: 0px 1px 2px rgba(60, 64, 67, 0.3), 0px 1px 3px 1px rgba(60, 64, 67, 0.15);\n",
              "      fill: #174EA6;\n",
              "    }\n",
              "\n",
              "    .colab-df-buttons div {\n",
              "      margin-bottom: 4px;\n",
              "    }\n",
              "\n",
              "    [theme=dark] .colab-df-convert {\n",
              "      background-color: #3B4455;\n",
              "      fill: #D2E3FC;\n",
              "    }\n",
              "\n",
              "    [theme=dark] .colab-df-convert:hover {\n",
              "      background-color: #434B5C;\n",
              "      box-shadow: 0px 1px 3px 1px rgba(0, 0, 0, 0.15);\n",
              "      filter: drop-shadow(0px 1px 2px rgba(0, 0, 0, 0.3));\n",
              "      fill: #FFFFFF;\n",
              "    }\n",
              "  </style>\n",
              "\n",
              "    <script>\n",
              "      const buttonEl =\n",
              "        document.querySelector('#df-ae80970d-6c33-49ac-84d4-15ec1207b2f7 button.colab-df-convert');\n",
              "      buttonEl.style.display =\n",
              "        google.colab.kernel.accessAllowed ? 'block' : 'none';\n",
              "\n",
              "      async function convertToInteractive(key) {\n",
              "        const element = document.querySelector('#df-ae80970d-6c33-49ac-84d4-15ec1207b2f7');\n",
              "        const dataTable =\n",
              "          await google.colab.kernel.invokeFunction('convertToInteractive',\n",
              "                                                    [key], {});\n",
              "        if (!dataTable) return;\n",
              "\n",
              "        const docLinkHtml = 'Like what you see? Visit the ' +\n",
              "          '<a target=\"_blank\" href=https://colab.research.google.com/notebooks/data_table.ipynb>data table notebook</a>'\n",
              "          + ' to learn more about interactive tables.';\n",
              "        element.innerHTML = '';\n",
              "        dataTable['output_type'] = 'display_data';\n",
              "        await google.colab.output.renderOutput(dataTable, element);\n",
              "        const docLink = document.createElement('div');\n",
              "        docLink.innerHTML = docLinkHtml;\n",
              "        element.appendChild(docLink);\n",
              "      }\n",
              "    </script>\n",
              "  </div>\n",
              "\n",
              "\n",
              "<div id=\"df-0b69c733-03a5-4650-aabd-cf3da8f07879\">\n",
              "  <button class=\"colab-df-quickchart\" onclick=\"quickchart('df-0b69c733-03a5-4650-aabd-cf3da8f07879')\"\n",
              "            title=\"Suggest charts.\"\n",
              "            style=\"display:none;\">\n",
              "\n",
              "<svg xmlns=\"http://www.w3.org/2000/svg\" height=\"24px\"viewBox=\"0 0 24 24\"\n",
              "     width=\"24px\">\n",
              "    <g>\n",
              "        <path d=\"M19 3H5c-1.1 0-2 .9-2 2v14c0 1.1.9 2 2 2h14c1.1 0 2-.9 2-2V5c0-1.1-.9-2-2-2zM9 17H7v-7h2v7zm4 0h-2V7h2v10zm4 0h-2v-4h2v4z\"/>\n",
              "    </g>\n",
              "</svg>\n",
              "  </button>\n",
              "\n",
              "<style>\n",
              "  .colab-df-quickchart {\n",
              "    background-color: #E8F0FE;\n",
              "    border: none;\n",
              "    border-radius: 50%;\n",
              "    cursor: pointer;\n",
              "    display: none;\n",
              "    fill: #1967D2;\n",
              "    height: 32px;\n",
              "    padding: 0 0 0 0;\n",
              "    width: 32px;\n",
              "  }\n",
              "\n",
              "  .colab-df-quickchart:hover {\n",
              "    background-color: #E2EBFA;\n",
              "    box-shadow: 0px 1px 2px rgba(60, 64, 67, 0.3), 0px 1px 3px 1px rgba(60, 64, 67, 0.15);\n",
              "    fill: #174EA6;\n",
              "  }\n",
              "\n",
              "  [theme=dark] .colab-df-quickchart {\n",
              "    background-color: #3B4455;\n",
              "    fill: #D2E3FC;\n",
              "  }\n",
              "\n",
              "  [theme=dark] .colab-df-quickchart:hover {\n",
              "    background-color: #434B5C;\n",
              "    box-shadow: 0px 1px 3px 1px rgba(0, 0, 0, 0.15);\n",
              "    filter: drop-shadow(0px 1px 2px rgba(0, 0, 0, 0.3));\n",
              "    fill: #FFFFFF;\n",
              "  }\n",
              "</style>\n",
              "\n",
              "  <script>\n",
              "    async function quickchart(key) {\n",
              "      const charts = await google.colab.kernel.invokeFunction(\n",
              "          'suggestCharts', [key], {});\n",
              "    }\n",
              "    (() => {\n",
              "      let quickchartButtonEl =\n",
              "        document.querySelector('#df-0b69c733-03a5-4650-aabd-cf3da8f07879 button');\n",
              "      quickchartButtonEl.style.display =\n",
              "        google.colab.kernel.accessAllowed ? 'block' : 'none';\n",
              "    })();\n",
              "  </script>\n",
              "</div>\n",
              "    </div>\n",
              "  </div>\n"
            ]
          },
          "metadata": {},
          "execution_count": 35
        }
      ]
    },
    {
      "cell_type": "code",
      "source": [
        "x"
      ],
      "metadata": {
        "colab": {
          "base_uri": "https://localhost:8080/",
          "height": 424
        },
        "id": "UvHxnO2cuDeL",
        "outputId": "127d9e04-6ab3-4e77-8abf-e3c0baac3973"
      },
      "execution_count": 36,
      "outputs": [
        {
          "output_type": "execute_result",
          "data": {
            "text/plain": [
              "     X1 transaction date  X2 house age  \\\n",
              "0              -0.822688      1.254111   \n",
              "1              -0.822688      0.156896   \n",
              "2               1.539289     -0.387322   \n",
              "3               1.244928     -0.387322   \n",
              "4              -1.120595     -1.115873   \n",
              "..                   ...           ...   \n",
              "409            -0.528327     -0.352211   \n",
              "410            -1.709316     -1.063206   \n",
              "411             0.358300      0.095452   \n",
              "412            -0.528327     -0.843763   \n",
              "413             1.244928     -0.984207   \n",
              "\n",
              "     X3 distance to the nearest MRT station  X4 number of convenience stores  \\\n",
              "0                                 -0.791537                         2.004982   \n",
              "1                                 -0.615866                         1.665488   \n",
              "2                                 -0.413515                         0.307513   \n",
              "3                                 -0.413515                         0.307513   \n",
              "4                                 -0.549332                         0.307513   \n",
              "..                                      ...                              ...   \n",
              "409                                2.375490                        -1.389957   \n",
              "410                               -0.787118                         1.665488   \n",
              "411                               -0.549014                         0.986500   \n",
              "412                               -0.775745                         0.307513   \n",
              "413                               -0.787118                         1.665488   \n",
              "\n",
              "     X5 latitude  X6 longitude  \n",
              "0       1.124070      0.448220  \n",
              "1       0.911342      0.400654  \n",
              "2       1.485063      0.687352  \n",
              "3       1.485063      0.687352  \n",
              "4       0.833180      0.592220  \n",
              "..           ...           ...  \n",
              "409    -2.214314     -1.925506  \n",
              "410     0.427062      0.634573  \n",
              "411     0.821899      0.423460  \n",
              "412    -0.184532      0.476238  \n",
              "413     0.427062      0.634573  \n",
              "\n",
              "[414 rows x 6 columns]"
            ],
            "text/html": [
              "\n",
              "  <div id=\"df-a79d93b7-d0b7-4624-ab9d-e7e6d01d7aa3\" class=\"colab-df-container\">\n",
              "    <div>\n",
              "<style scoped>\n",
              "    .dataframe tbody tr th:only-of-type {\n",
              "        vertical-align: middle;\n",
              "    }\n",
              "\n",
              "    .dataframe tbody tr th {\n",
              "        vertical-align: top;\n",
              "    }\n",
              "\n",
              "    .dataframe thead th {\n",
              "        text-align: right;\n",
              "    }\n",
              "</style>\n",
              "<table border=\"1\" class=\"dataframe\">\n",
              "  <thead>\n",
              "    <tr style=\"text-align: right;\">\n",
              "      <th></th>\n",
              "      <th>X1 transaction date</th>\n",
              "      <th>X2 house age</th>\n",
              "      <th>X3 distance to the nearest MRT station</th>\n",
              "      <th>X4 number of convenience stores</th>\n",
              "      <th>X5 latitude</th>\n",
              "      <th>X6 longitude</th>\n",
              "    </tr>\n",
              "  </thead>\n",
              "  <tbody>\n",
              "    <tr>\n",
              "      <th>0</th>\n",
              "      <td>-0.822688</td>\n",
              "      <td>1.254111</td>\n",
              "      <td>-0.791537</td>\n",
              "      <td>2.004982</td>\n",
              "      <td>1.124070</td>\n",
              "      <td>0.448220</td>\n",
              "    </tr>\n",
              "    <tr>\n",
              "      <th>1</th>\n",
              "      <td>-0.822688</td>\n",
              "      <td>0.156896</td>\n",
              "      <td>-0.615866</td>\n",
              "      <td>1.665488</td>\n",
              "      <td>0.911342</td>\n",
              "      <td>0.400654</td>\n",
              "    </tr>\n",
              "    <tr>\n",
              "      <th>2</th>\n",
              "      <td>1.539289</td>\n",
              "      <td>-0.387322</td>\n",
              "      <td>-0.413515</td>\n",
              "      <td>0.307513</td>\n",
              "      <td>1.485063</td>\n",
              "      <td>0.687352</td>\n",
              "    </tr>\n",
              "    <tr>\n",
              "      <th>3</th>\n",
              "      <td>1.244928</td>\n",
              "      <td>-0.387322</td>\n",
              "      <td>-0.413515</td>\n",
              "      <td>0.307513</td>\n",
              "      <td>1.485063</td>\n",
              "      <td>0.687352</td>\n",
              "    </tr>\n",
              "    <tr>\n",
              "      <th>4</th>\n",
              "      <td>-1.120595</td>\n",
              "      <td>-1.115873</td>\n",
              "      <td>-0.549332</td>\n",
              "      <td>0.307513</td>\n",
              "      <td>0.833180</td>\n",
              "      <td>0.592220</td>\n",
              "    </tr>\n",
              "    <tr>\n",
              "      <th>...</th>\n",
              "      <td>...</td>\n",
              "      <td>...</td>\n",
              "      <td>...</td>\n",
              "      <td>...</td>\n",
              "      <td>...</td>\n",
              "      <td>...</td>\n",
              "    </tr>\n",
              "    <tr>\n",
              "      <th>409</th>\n",
              "      <td>-0.528327</td>\n",
              "      <td>-0.352211</td>\n",
              "      <td>2.375490</td>\n",
              "      <td>-1.389957</td>\n",
              "      <td>-2.214314</td>\n",
              "      <td>-1.925506</td>\n",
              "    </tr>\n",
              "    <tr>\n",
              "      <th>410</th>\n",
              "      <td>-1.709316</td>\n",
              "      <td>-1.063206</td>\n",
              "      <td>-0.787118</td>\n",
              "      <td>1.665488</td>\n",
              "      <td>0.427062</td>\n",
              "      <td>0.634573</td>\n",
              "    </tr>\n",
              "    <tr>\n",
              "      <th>411</th>\n",
              "      <td>0.358300</td>\n",
              "      <td>0.095452</td>\n",
              "      <td>-0.549014</td>\n",
              "      <td>0.986500</td>\n",
              "      <td>0.821899</td>\n",
              "      <td>0.423460</td>\n",
              "    </tr>\n",
              "    <tr>\n",
              "      <th>412</th>\n",
              "      <td>-0.528327</td>\n",
              "      <td>-0.843763</td>\n",
              "      <td>-0.775745</td>\n",
              "      <td>0.307513</td>\n",
              "      <td>-0.184532</td>\n",
              "      <td>0.476238</td>\n",
              "    </tr>\n",
              "    <tr>\n",
              "      <th>413</th>\n",
              "      <td>1.244928</td>\n",
              "      <td>-0.984207</td>\n",
              "      <td>-0.787118</td>\n",
              "      <td>1.665488</td>\n",
              "      <td>0.427062</td>\n",
              "      <td>0.634573</td>\n",
              "    </tr>\n",
              "  </tbody>\n",
              "</table>\n",
              "<p>414 rows × 6 columns</p>\n",
              "</div>\n",
              "    <div class=\"colab-df-buttons\">\n",
              "\n",
              "  <div class=\"colab-df-container\">\n",
              "    <button class=\"colab-df-convert\" onclick=\"convertToInteractive('df-a79d93b7-d0b7-4624-ab9d-e7e6d01d7aa3')\"\n",
              "            title=\"Convert this dataframe to an interactive table.\"\n",
              "            style=\"display:none;\">\n",
              "\n",
              "  <svg xmlns=\"http://www.w3.org/2000/svg\" height=\"24px\" viewBox=\"0 -960 960 960\">\n",
              "    <path d=\"M120-120v-720h720v720H120Zm60-500h600v-160H180v160Zm220 220h160v-160H400v160Zm0 220h160v-160H400v160ZM180-400h160v-160H180v160Zm440 0h160v-160H620v160ZM180-180h160v-160H180v160Zm440 0h160v-160H620v160Z\"/>\n",
              "  </svg>\n",
              "    </button>\n",
              "\n",
              "  <style>\n",
              "    .colab-df-container {\n",
              "      display:flex;\n",
              "      gap: 12px;\n",
              "    }\n",
              "\n",
              "    .colab-df-convert {\n",
              "      background-color: #E8F0FE;\n",
              "      border: none;\n",
              "      border-radius: 50%;\n",
              "      cursor: pointer;\n",
              "      display: none;\n",
              "      fill: #1967D2;\n",
              "      height: 32px;\n",
              "      padding: 0 0 0 0;\n",
              "      width: 32px;\n",
              "    }\n",
              "\n",
              "    .colab-df-convert:hover {\n",
              "      background-color: #E2EBFA;\n",
              "      box-shadow: 0px 1px 2px rgba(60, 64, 67, 0.3), 0px 1px 3px 1px rgba(60, 64, 67, 0.15);\n",
              "      fill: #174EA6;\n",
              "    }\n",
              "\n",
              "    .colab-df-buttons div {\n",
              "      margin-bottom: 4px;\n",
              "    }\n",
              "\n",
              "    [theme=dark] .colab-df-convert {\n",
              "      background-color: #3B4455;\n",
              "      fill: #D2E3FC;\n",
              "    }\n",
              "\n",
              "    [theme=dark] .colab-df-convert:hover {\n",
              "      background-color: #434B5C;\n",
              "      box-shadow: 0px 1px 3px 1px rgba(0, 0, 0, 0.15);\n",
              "      filter: drop-shadow(0px 1px 2px rgba(0, 0, 0, 0.3));\n",
              "      fill: #FFFFFF;\n",
              "    }\n",
              "  </style>\n",
              "\n",
              "    <script>\n",
              "      const buttonEl =\n",
              "        document.querySelector('#df-a79d93b7-d0b7-4624-ab9d-e7e6d01d7aa3 button.colab-df-convert');\n",
              "      buttonEl.style.display =\n",
              "        google.colab.kernel.accessAllowed ? 'block' : 'none';\n",
              "\n",
              "      async function convertToInteractive(key) {\n",
              "        const element = document.querySelector('#df-a79d93b7-d0b7-4624-ab9d-e7e6d01d7aa3');\n",
              "        const dataTable =\n",
              "          await google.colab.kernel.invokeFunction('convertToInteractive',\n",
              "                                                    [key], {});\n",
              "        if (!dataTable) return;\n",
              "\n",
              "        const docLinkHtml = 'Like what you see? Visit the ' +\n",
              "          '<a target=\"_blank\" href=https://colab.research.google.com/notebooks/data_table.ipynb>data table notebook</a>'\n",
              "          + ' to learn more about interactive tables.';\n",
              "        element.innerHTML = '';\n",
              "        dataTable['output_type'] = 'display_data';\n",
              "        await google.colab.output.renderOutput(dataTable, element);\n",
              "        const docLink = document.createElement('div');\n",
              "        docLink.innerHTML = docLinkHtml;\n",
              "        element.appendChild(docLink);\n",
              "      }\n",
              "    </script>\n",
              "  </div>\n",
              "\n",
              "\n",
              "<div id=\"df-88f09608-e7d8-464b-87c1-8e0ec9cdb022\">\n",
              "  <button class=\"colab-df-quickchart\" onclick=\"quickchart('df-88f09608-e7d8-464b-87c1-8e0ec9cdb022')\"\n",
              "            title=\"Suggest charts.\"\n",
              "            style=\"display:none;\">\n",
              "\n",
              "<svg xmlns=\"http://www.w3.org/2000/svg\" height=\"24px\"viewBox=\"0 0 24 24\"\n",
              "     width=\"24px\">\n",
              "    <g>\n",
              "        <path d=\"M19 3H5c-1.1 0-2 .9-2 2v14c0 1.1.9 2 2 2h14c1.1 0 2-.9 2-2V5c0-1.1-.9-2-2-2zM9 17H7v-7h2v7zm4 0h-2V7h2v10zm4 0h-2v-4h2v4z\"/>\n",
              "    </g>\n",
              "</svg>\n",
              "  </button>\n",
              "\n",
              "<style>\n",
              "  .colab-df-quickchart {\n",
              "    background-color: #E8F0FE;\n",
              "    border: none;\n",
              "    border-radius: 50%;\n",
              "    cursor: pointer;\n",
              "    display: none;\n",
              "    fill: #1967D2;\n",
              "    height: 32px;\n",
              "    padding: 0 0 0 0;\n",
              "    width: 32px;\n",
              "  }\n",
              "\n",
              "  .colab-df-quickchart:hover {\n",
              "    background-color: #E2EBFA;\n",
              "    box-shadow: 0px 1px 2px rgba(60, 64, 67, 0.3), 0px 1px 3px 1px rgba(60, 64, 67, 0.15);\n",
              "    fill: #174EA6;\n",
              "  }\n",
              "\n",
              "  [theme=dark] .colab-df-quickchart {\n",
              "    background-color: #3B4455;\n",
              "    fill: #D2E3FC;\n",
              "  }\n",
              "\n",
              "  [theme=dark] .colab-df-quickchart:hover {\n",
              "    background-color: #434B5C;\n",
              "    box-shadow: 0px 1px 3px 1px rgba(0, 0, 0, 0.15);\n",
              "    filter: drop-shadow(0px 1px 2px rgba(0, 0, 0, 0.3));\n",
              "    fill: #FFFFFF;\n",
              "  }\n",
              "</style>\n",
              "\n",
              "  <script>\n",
              "    async function quickchart(key) {\n",
              "      const charts = await google.colab.kernel.invokeFunction(\n",
              "          'suggestCharts', [key], {});\n",
              "    }\n",
              "    (() => {\n",
              "      let quickchartButtonEl =\n",
              "        document.querySelector('#df-88f09608-e7d8-464b-87c1-8e0ec9cdb022 button');\n",
              "      quickchartButtonEl.style.display =\n",
              "        google.colab.kernel.accessAllowed ? 'block' : 'none';\n",
              "    })();\n",
              "  </script>\n",
              "</div>\n",
              "    </div>\n",
              "  </div>\n"
            ]
          },
          "metadata": {},
          "execution_count": 36
        }
      ]
    },
    {
      "cell_type": "code",
      "source": [
        "x1=x.copy()"
      ],
      "metadata": {
        "id": "mGPDhRHYuDa1"
      },
      "execution_count": 37,
      "outputs": []
    },
    {
      "cell_type": "code",
      "source": [
        "x1"
      ],
      "metadata": {
        "colab": {
          "base_uri": "https://localhost:8080/",
          "height": 424
        },
        "id": "0qh4ovEnuDXP",
        "outputId": "333f7f71-a6f0-425c-a60e-499315b824f7"
      },
      "execution_count": 38,
      "outputs": [
        {
          "output_type": "execute_result",
          "data": {
            "text/plain": [
              "     X1 transaction date  X2 house age  \\\n",
              "0              -0.822688      1.254111   \n",
              "1              -0.822688      0.156896   \n",
              "2               1.539289     -0.387322   \n",
              "3               1.244928     -0.387322   \n",
              "4              -1.120595     -1.115873   \n",
              "..                   ...           ...   \n",
              "409            -0.528327     -0.352211   \n",
              "410            -1.709316     -1.063206   \n",
              "411             0.358300      0.095452   \n",
              "412            -0.528327     -0.843763   \n",
              "413             1.244928     -0.984207   \n",
              "\n",
              "     X3 distance to the nearest MRT station  X4 number of convenience stores  \\\n",
              "0                                 -0.791537                         2.004982   \n",
              "1                                 -0.615866                         1.665488   \n",
              "2                                 -0.413515                         0.307513   \n",
              "3                                 -0.413515                         0.307513   \n",
              "4                                 -0.549332                         0.307513   \n",
              "..                                      ...                              ...   \n",
              "409                                2.375490                        -1.389957   \n",
              "410                               -0.787118                         1.665488   \n",
              "411                               -0.549014                         0.986500   \n",
              "412                               -0.775745                         0.307513   \n",
              "413                               -0.787118                         1.665488   \n",
              "\n",
              "     X5 latitude  X6 longitude  \n",
              "0       1.124070      0.448220  \n",
              "1       0.911342      0.400654  \n",
              "2       1.485063      0.687352  \n",
              "3       1.485063      0.687352  \n",
              "4       0.833180      0.592220  \n",
              "..           ...           ...  \n",
              "409    -2.214314     -1.925506  \n",
              "410     0.427062      0.634573  \n",
              "411     0.821899      0.423460  \n",
              "412    -0.184532      0.476238  \n",
              "413     0.427062      0.634573  \n",
              "\n",
              "[414 rows x 6 columns]"
            ],
            "text/html": [
              "\n",
              "  <div id=\"df-a8a9ac3b-fab9-4232-b550-ac55c838e820\" class=\"colab-df-container\">\n",
              "    <div>\n",
              "<style scoped>\n",
              "    .dataframe tbody tr th:only-of-type {\n",
              "        vertical-align: middle;\n",
              "    }\n",
              "\n",
              "    .dataframe tbody tr th {\n",
              "        vertical-align: top;\n",
              "    }\n",
              "\n",
              "    .dataframe thead th {\n",
              "        text-align: right;\n",
              "    }\n",
              "</style>\n",
              "<table border=\"1\" class=\"dataframe\">\n",
              "  <thead>\n",
              "    <tr style=\"text-align: right;\">\n",
              "      <th></th>\n",
              "      <th>X1 transaction date</th>\n",
              "      <th>X2 house age</th>\n",
              "      <th>X3 distance to the nearest MRT station</th>\n",
              "      <th>X4 number of convenience stores</th>\n",
              "      <th>X5 latitude</th>\n",
              "      <th>X6 longitude</th>\n",
              "    </tr>\n",
              "  </thead>\n",
              "  <tbody>\n",
              "    <tr>\n",
              "      <th>0</th>\n",
              "      <td>-0.822688</td>\n",
              "      <td>1.254111</td>\n",
              "      <td>-0.791537</td>\n",
              "      <td>2.004982</td>\n",
              "      <td>1.124070</td>\n",
              "      <td>0.448220</td>\n",
              "    </tr>\n",
              "    <tr>\n",
              "      <th>1</th>\n",
              "      <td>-0.822688</td>\n",
              "      <td>0.156896</td>\n",
              "      <td>-0.615866</td>\n",
              "      <td>1.665488</td>\n",
              "      <td>0.911342</td>\n",
              "      <td>0.400654</td>\n",
              "    </tr>\n",
              "    <tr>\n",
              "      <th>2</th>\n",
              "      <td>1.539289</td>\n",
              "      <td>-0.387322</td>\n",
              "      <td>-0.413515</td>\n",
              "      <td>0.307513</td>\n",
              "      <td>1.485063</td>\n",
              "      <td>0.687352</td>\n",
              "    </tr>\n",
              "    <tr>\n",
              "      <th>3</th>\n",
              "      <td>1.244928</td>\n",
              "      <td>-0.387322</td>\n",
              "      <td>-0.413515</td>\n",
              "      <td>0.307513</td>\n",
              "      <td>1.485063</td>\n",
              "      <td>0.687352</td>\n",
              "    </tr>\n",
              "    <tr>\n",
              "      <th>4</th>\n",
              "      <td>-1.120595</td>\n",
              "      <td>-1.115873</td>\n",
              "      <td>-0.549332</td>\n",
              "      <td>0.307513</td>\n",
              "      <td>0.833180</td>\n",
              "      <td>0.592220</td>\n",
              "    </tr>\n",
              "    <tr>\n",
              "      <th>...</th>\n",
              "      <td>...</td>\n",
              "      <td>...</td>\n",
              "      <td>...</td>\n",
              "      <td>...</td>\n",
              "      <td>...</td>\n",
              "      <td>...</td>\n",
              "    </tr>\n",
              "    <tr>\n",
              "      <th>409</th>\n",
              "      <td>-0.528327</td>\n",
              "      <td>-0.352211</td>\n",
              "      <td>2.375490</td>\n",
              "      <td>-1.389957</td>\n",
              "      <td>-2.214314</td>\n",
              "      <td>-1.925506</td>\n",
              "    </tr>\n",
              "    <tr>\n",
              "      <th>410</th>\n",
              "      <td>-1.709316</td>\n",
              "      <td>-1.063206</td>\n",
              "      <td>-0.787118</td>\n",
              "      <td>1.665488</td>\n",
              "      <td>0.427062</td>\n",
              "      <td>0.634573</td>\n",
              "    </tr>\n",
              "    <tr>\n",
              "      <th>411</th>\n",
              "      <td>0.358300</td>\n",
              "      <td>0.095452</td>\n",
              "      <td>-0.549014</td>\n",
              "      <td>0.986500</td>\n",
              "      <td>0.821899</td>\n",
              "      <td>0.423460</td>\n",
              "    </tr>\n",
              "    <tr>\n",
              "      <th>412</th>\n",
              "      <td>-0.528327</td>\n",
              "      <td>-0.843763</td>\n",
              "      <td>-0.775745</td>\n",
              "      <td>0.307513</td>\n",
              "      <td>-0.184532</td>\n",
              "      <td>0.476238</td>\n",
              "    </tr>\n",
              "    <tr>\n",
              "      <th>413</th>\n",
              "      <td>1.244928</td>\n",
              "      <td>-0.984207</td>\n",
              "      <td>-0.787118</td>\n",
              "      <td>1.665488</td>\n",
              "      <td>0.427062</td>\n",
              "      <td>0.634573</td>\n",
              "    </tr>\n",
              "  </tbody>\n",
              "</table>\n",
              "<p>414 rows × 6 columns</p>\n",
              "</div>\n",
              "    <div class=\"colab-df-buttons\">\n",
              "\n",
              "  <div class=\"colab-df-container\">\n",
              "    <button class=\"colab-df-convert\" onclick=\"convertToInteractive('df-a8a9ac3b-fab9-4232-b550-ac55c838e820')\"\n",
              "            title=\"Convert this dataframe to an interactive table.\"\n",
              "            style=\"display:none;\">\n",
              "\n",
              "  <svg xmlns=\"http://www.w3.org/2000/svg\" height=\"24px\" viewBox=\"0 -960 960 960\">\n",
              "    <path d=\"M120-120v-720h720v720H120Zm60-500h600v-160H180v160Zm220 220h160v-160H400v160Zm0 220h160v-160H400v160ZM180-400h160v-160H180v160Zm440 0h160v-160H620v160ZM180-180h160v-160H180v160Zm440 0h160v-160H620v160Z\"/>\n",
              "  </svg>\n",
              "    </button>\n",
              "\n",
              "  <style>\n",
              "    .colab-df-container {\n",
              "      display:flex;\n",
              "      gap: 12px;\n",
              "    }\n",
              "\n",
              "    .colab-df-convert {\n",
              "      background-color: #E8F0FE;\n",
              "      border: none;\n",
              "      border-radius: 50%;\n",
              "      cursor: pointer;\n",
              "      display: none;\n",
              "      fill: #1967D2;\n",
              "      height: 32px;\n",
              "      padding: 0 0 0 0;\n",
              "      width: 32px;\n",
              "    }\n",
              "\n",
              "    .colab-df-convert:hover {\n",
              "      background-color: #E2EBFA;\n",
              "      box-shadow: 0px 1px 2px rgba(60, 64, 67, 0.3), 0px 1px 3px 1px rgba(60, 64, 67, 0.15);\n",
              "      fill: #174EA6;\n",
              "    }\n",
              "\n",
              "    .colab-df-buttons div {\n",
              "      margin-bottom: 4px;\n",
              "    }\n",
              "\n",
              "    [theme=dark] .colab-df-convert {\n",
              "      background-color: #3B4455;\n",
              "      fill: #D2E3FC;\n",
              "    }\n",
              "\n",
              "    [theme=dark] .colab-df-convert:hover {\n",
              "      background-color: #434B5C;\n",
              "      box-shadow: 0px 1px 3px 1px rgba(0, 0, 0, 0.15);\n",
              "      filter: drop-shadow(0px 1px 2px rgba(0, 0, 0, 0.3));\n",
              "      fill: #FFFFFF;\n",
              "    }\n",
              "  </style>\n",
              "\n",
              "    <script>\n",
              "      const buttonEl =\n",
              "        document.querySelector('#df-a8a9ac3b-fab9-4232-b550-ac55c838e820 button.colab-df-convert');\n",
              "      buttonEl.style.display =\n",
              "        google.colab.kernel.accessAllowed ? 'block' : 'none';\n",
              "\n",
              "      async function convertToInteractive(key) {\n",
              "        const element = document.querySelector('#df-a8a9ac3b-fab9-4232-b550-ac55c838e820');\n",
              "        const dataTable =\n",
              "          await google.colab.kernel.invokeFunction('convertToInteractive',\n",
              "                                                    [key], {});\n",
              "        if (!dataTable) return;\n",
              "\n",
              "        const docLinkHtml = 'Like what you see? Visit the ' +\n",
              "          '<a target=\"_blank\" href=https://colab.research.google.com/notebooks/data_table.ipynb>data table notebook</a>'\n",
              "          + ' to learn more about interactive tables.';\n",
              "        element.innerHTML = '';\n",
              "        dataTable['output_type'] = 'display_data';\n",
              "        await google.colab.output.renderOutput(dataTable, element);\n",
              "        const docLink = document.createElement('div');\n",
              "        docLink.innerHTML = docLinkHtml;\n",
              "        element.appendChild(docLink);\n",
              "      }\n",
              "    </script>\n",
              "  </div>\n",
              "\n",
              "\n",
              "<div id=\"df-7fcd2561-a010-4b3a-97d5-91b410556834\">\n",
              "  <button class=\"colab-df-quickchart\" onclick=\"quickchart('df-7fcd2561-a010-4b3a-97d5-91b410556834')\"\n",
              "            title=\"Suggest charts.\"\n",
              "            style=\"display:none;\">\n",
              "\n",
              "<svg xmlns=\"http://www.w3.org/2000/svg\" height=\"24px\"viewBox=\"0 0 24 24\"\n",
              "     width=\"24px\">\n",
              "    <g>\n",
              "        <path d=\"M19 3H5c-1.1 0-2 .9-2 2v14c0 1.1.9 2 2 2h14c1.1 0 2-.9 2-2V5c0-1.1-.9-2-2-2zM9 17H7v-7h2v7zm4 0h-2V7h2v10zm4 0h-2v-4h2v4z\"/>\n",
              "    </g>\n",
              "</svg>\n",
              "  </button>\n",
              "\n",
              "<style>\n",
              "  .colab-df-quickchart {\n",
              "    background-color: #E8F0FE;\n",
              "    border: none;\n",
              "    border-radius: 50%;\n",
              "    cursor: pointer;\n",
              "    display: none;\n",
              "    fill: #1967D2;\n",
              "    height: 32px;\n",
              "    padding: 0 0 0 0;\n",
              "    width: 32px;\n",
              "  }\n",
              "\n",
              "  .colab-df-quickchart:hover {\n",
              "    background-color: #E2EBFA;\n",
              "    box-shadow: 0px 1px 2px rgba(60, 64, 67, 0.3), 0px 1px 3px 1px rgba(60, 64, 67, 0.15);\n",
              "    fill: #174EA6;\n",
              "  }\n",
              "\n",
              "  [theme=dark] .colab-df-quickchart {\n",
              "    background-color: #3B4455;\n",
              "    fill: #D2E3FC;\n",
              "  }\n",
              "\n",
              "  [theme=dark] .colab-df-quickchart:hover {\n",
              "    background-color: #434B5C;\n",
              "    box-shadow: 0px 1px 3px 1px rgba(0, 0, 0, 0.15);\n",
              "    filter: drop-shadow(0px 1px 2px rgba(0, 0, 0, 0.3));\n",
              "    fill: #FFFFFF;\n",
              "  }\n",
              "</style>\n",
              "\n",
              "  <script>\n",
              "    async function quickchart(key) {\n",
              "      const charts = await google.colab.kernel.invokeFunction(\n",
              "          'suggestCharts', [key], {});\n",
              "    }\n",
              "    (() => {\n",
              "      let quickchartButtonEl =\n",
              "        document.querySelector('#df-7fcd2561-a010-4b3a-97d5-91b410556834 button');\n",
              "      quickchartButtonEl.style.display =\n",
              "        google.colab.kernel.accessAllowed ? 'block' : 'none';\n",
              "    })();\n",
              "  </script>\n",
              "</div>\n",
              "    </div>\n",
              "  </div>\n"
            ]
          },
          "metadata": {},
          "execution_count": 38
        }
      ]
    },
    {
      "cell_type": "code",
      "source": [
        "from sklearn.model_selection import train_test_split"
      ],
      "metadata": {
        "id": "vAsXhA8CuDTm"
      },
      "execution_count": 39,
      "outputs": []
    },
    {
      "cell_type": "code",
      "source": [
        "X1_train, X1_test, y_train, y_test = train_test_split( x1, y, test_size=0.30, random_state=42)"
      ],
      "metadata": {
        "id": "GR-sMW3p0Qgy"
      },
      "execution_count": 40,
      "outputs": []
    },
    {
      "cell_type": "markdown",
      "source": [
        "# **Part-2 : Linear Regression**\n",
        "---\n",
        "**Using Scaled Value**\n"
      ],
      "metadata": {
        "id": "_qtAd6GRnuM-"
      }
    },
    {
      "cell_type": "code",
      "source": [
        "from sklearn.linear_model import LinearRegression"
      ],
      "metadata": {
        "id": "AEpJ3kvBXaQB"
      },
      "execution_count": 41,
      "outputs": []
    },
    {
      "cell_type": "code",
      "source": [
        "model=LinearRegression()"
      ],
      "metadata": {
        "id": "5ulC5ATMXaLw"
      },
      "execution_count": 42,
      "outputs": []
    },
    {
      "cell_type": "code",
      "source": [
        "model.fit(X1_train,y_train)"
      ],
      "metadata": {
        "id": "kdXHlT34XaHv",
        "colab": {
          "base_uri": "https://localhost:8080/",
          "height": 75
        },
        "outputId": "eaf179b1-4dad-4ed0-cafe-b1407ec59f82"
      },
      "execution_count": 43,
      "outputs": [
        {
          "output_type": "execute_result",
          "data": {
            "text/plain": [
              "LinearRegression()"
            ],
            "text/html": [
              "<style>#sk-container-id-2 {color: black;background-color: white;}#sk-container-id-2 pre{padding: 0;}#sk-container-id-2 div.sk-toggleable {background-color: white;}#sk-container-id-2 label.sk-toggleable__label {cursor: pointer;display: block;width: 100%;margin-bottom: 0;padding: 0.3em;box-sizing: border-box;text-align: center;}#sk-container-id-2 label.sk-toggleable__label-arrow:before {content: \"▸\";float: left;margin-right: 0.25em;color: #696969;}#sk-container-id-2 label.sk-toggleable__label-arrow:hover:before {color: black;}#sk-container-id-2 div.sk-estimator:hover label.sk-toggleable__label-arrow:before {color: black;}#sk-container-id-2 div.sk-toggleable__content {max-height: 0;max-width: 0;overflow: hidden;text-align: left;background-color: #f0f8ff;}#sk-container-id-2 div.sk-toggleable__content pre {margin: 0.2em;color: black;border-radius: 0.25em;background-color: #f0f8ff;}#sk-container-id-2 input.sk-toggleable__control:checked~div.sk-toggleable__content {max-height: 200px;max-width: 100%;overflow: auto;}#sk-container-id-2 input.sk-toggleable__control:checked~label.sk-toggleable__label-arrow:before {content: \"▾\";}#sk-container-id-2 div.sk-estimator input.sk-toggleable__control:checked~label.sk-toggleable__label {background-color: #d4ebff;}#sk-container-id-2 div.sk-label input.sk-toggleable__control:checked~label.sk-toggleable__label {background-color: #d4ebff;}#sk-container-id-2 input.sk-hidden--visually {border: 0;clip: rect(1px 1px 1px 1px);clip: rect(1px, 1px, 1px, 1px);height: 1px;margin: -1px;overflow: hidden;padding: 0;position: absolute;width: 1px;}#sk-container-id-2 div.sk-estimator {font-family: monospace;background-color: #f0f8ff;border: 1px dotted black;border-radius: 0.25em;box-sizing: border-box;margin-bottom: 0.5em;}#sk-container-id-2 div.sk-estimator:hover {background-color: #d4ebff;}#sk-container-id-2 div.sk-parallel-item::after {content: \"\";width: 100%;border-bottom: 1px solid gray;flex-grow: 1;}#sk-container-id-2 div.sk-label:hover label.sk-toggleable__label {background-color: #d4ebff;}#sk-container-id-2 div.sk-serial::before {content: \"\";position: absolute;border-left: 1px solid gray;box-sizing: border-box;top: 0;bottom: 0;left: 50%;z-index: 0;}#sk-container-id-2 div.sk-serial {display: flex;flex-direction: column;align-items: center;background-color: white;padding-right: 0.2em;padding-left: 0.2em;position: relative;}#sk-container-id-2 div.sk-item {position: relative;z-index: 1;}#sk-container-id-2 div.sk-parallel {display: flex;align-items: stretch;justify-content: center;background-color: white;position: relative;}#sk-container-id-2 div.sk-item::before, #sk-container-id-2 div.sk-parallel-item::before {content: \"\";position: absolute;border-left: 1px solid gray;box-sizing: border-box;top: 0;bottom: 0;left: 50%;z-index: -1;}#sk-container-id-2 div.sk-parallel-item {display: flex;flex-direction: column;z-index: 1;position: relative;background-color: white;}#sk-container-id-2 div.sk-parallel-item:first-child::after {align-self: flex-end;width: 50%;}#sk-container-id-2 div.sk-parallel-item:last-child::after {align-self: flex-start;width: 50%;}#sk-container-id-2 div.sk-parallel-item:only-child::after {width: 0;}#sk-container-id-2 div.sk-dashed-wrapped {border: 1px dashed gray;margin: 0 0.4em 0.5em 0.4em;box-sizing: border-box;padding-bottom: 0.4em;background-color: white;}#sk-container-id-2 div.sk-label label {font-family: monospace;font-weight: bold;display: inline-block;line-height: 1.2em;}#sk-container-id-2 div.sk-label-container {text-align: center;}#sk-container-id-2 div.sk-container {/* jupyter's `normalize.less` sets `[hidden] { display: none; }` but bootstrap.min.css set `[hidden] { display: none !important; }` so we also need the `!important` here to be able to override the default hidden behavior on the sphinx rendered scikit-learn.org. See: https://github.com/scikit-learn/scikit-learn/issues/21755 */display: inline-block !important;position: relative;}#sk-container-id-2 div.sk-text-repr-fallback {display: none;}</style><div id=\"sk-container-id-2\" class=\"sk-top-container\"><div class=\"sk-text-repr-fallback\"><pre>LinearRegression()</pre><b>In a Jupyter environment, please rerun this cell to show the HTML representation or trust the notebook. <br />On GitHub, the HTML representation is unable to render, please try loading this page with nbviewer.org.</b></div><div class=\"sk-container\" hidden><div class=\"sk-item\"><div class=\"sk-estimator sk-toggleable\"><input class=\"sk-toggleable__control sk-hidden--visually\" id=\"sk-estimator-id-2\" type=\"checkbox\" checked><label for=\"sk-estimator-id-2\" class=\"sk-toggleable__label sk-toggleable__label-arrow\">LinearRegression</label><div class=\"sk-toggleable__content\"><pre>LinearRegression()</pre></div></div></div></div></div>"
            ]
          },
          "metadata": {},
          "execution_count": 43
        }
      ]
    },
    {
      "cell_type": "markdown",
      "source": [
        "**Regression Coefficients**"
      ],
      "metadata": {
        "id": "AWEmQVt9xuk6"
      }
    },
    {
      "cell_type": "code",
      "source": [
        "#Slope\n",
        "M=model.coef_\n"
      ],
      "metadata": {
        "id": "joMiafefXaEU"
      },
      "execution_count": 44,
      "outputs": []
    },
    {
      "cell_type": "code",
      "source": [
        "M"
      ],
      "metadata": {
        "id": "POBy9idNXaBC",
        "colab": {
          "base_uri": "https://localhost:8080/"
        },
        "outputId": "92264a97-139d-4bac-c403-baf3381337ae"
      },
      "execution_count": 45,
      "outputs": [
        {
          "output_type": "execute_result",
          "data": {
            "text/plain": [
              "array([ 1.6488872 , -2.76319942, -6.48564526,  3.16499231,  2.96724014,\n",
              "       -0.80166255])"
            ]
          },
          "metadata": {},
          "execution_count": 45
        }
      ]
    },
    {
      "cell_type": "code",
      "source": [
        "#Intercept\n",
        "C=model.intercept_"
      ],
      "metadata": {
        "id": "s32EGNQeXZ92"
      },
      "execution_count": 46,
      "outputs": []
    },
    {
      "cell_type": "code",
      "source": [
        "C"
      ],
      "metadata": {
        "id": "_LopL2FFXZ6-",
        "colab": {
          "base_uri": "https://localhost:8080/"
        },
        "outputId": "d6faba86-9035-4865-9d1e-312bcbb1f852"
      },
      "execution_count": 47,
      "outputs": [
        {
          "output_type": "execute_result",
          "data": {
            "text/plain": [
              "37.983867630237256"
            ]
          },
          "metadata": {},
          "execution_count": 47
        }
      ]
    },
    {
      "cell_type": "code",
      "source": [
        "#prediction\n",
        "y_predict_train=model.predict(X1_train)"
      ],
      "metadata": {
        "id": "1OKcBiihXZ3D"
      },
      "execution_count": 48,
      "outputs": []
    },
    {
      "cell_type": "code",
      "source": [
        "y_predict_train"
      ],
      "metadata": {
        "id": "aGwSvLSPXZzx",
        "colab": {
          "base_uri": "https://localhost:8080/"
        },
        "outputId": "7179f539-acfe-4af6-a1fc-bd22f82ce807"
      },
      "execution_count": 49,
      "outputs": [
        {
          "output_type": "execute_result",
          "data": {
            "text/plain": [
              "array([47.32074756, 15.10754801, 46.95629589, 11.8601291 , 30.6116461 ,\n",
              "       35.23397379, 40.42310691, 45.50708821, 40.18349801, 36.83495501,\n",
              "       34.09696749, 37.70337476, 27.79080015, 34.70049596, 24.55194289,\n",
              "       37.13787565, 44.68117429, 52.45976408, 37.23468772, 47.94245238,\n",
              "       41.42892542, 42.58464002, 43.23127535, 45.21550123, 31.44630639,\n",
              "       44.81269688, 30.47900933, 39.20917476, 42.19179401, 54.35199522,\n",
              "       44.25551663, 34.41635164, 40.73665437, 45.86719965, 43.01690126,\n",
              "       39.93460642, 38.88477727, 48.29378192, 37.07582259, 45.12882333,\n",
              "       41.07510261, 34.66401256, 12.08437271, 43.15586926, 38.14849191,\n",
              "       43.15586926, 51.38405277, 45.93279355, 34.48071984, 38.91388548,\n",
              "       27.84017764, 51.68302612, 43.89392614, 16.18414497, 41.27000829,\n",
              "       47.34623383, 46.08764064, 43.82061184, 28.00014687, 44.91111927,\n",
              "       44.64675952, 53.42977007, 43.91060764, 44.86743814, 38.26205457,\n",
              "        6.172469  , 43.99788821, 47.56691057, 29.88167717, 29.4147168 ,\n",
              "       41.07637641, 34.32974357, 34.04540263, 47.34623383, 35.92608196,\n",
              "       38.74245726, 16.10217259, 11.64846965, 12.03833649, 49.60501506,\n",
              "       47.55430212, 40.74627888, 47.62074396, 29.67977628, 44.51935363,\n",
              "       45.64361553, 43.13016811, 44.1650313 , 40.49757119, 46.6095013 ,\n",
              "       15.37685644, 43.42524049, 45.9302199 , 43.13016811, 39.04184045,\n",
              "       44.48425306, 43.3457631 , 52.9628097 , 47.82164644, 31.04008806,\n",
              "       53.73353665, 33.96150555, 40.21575858, 30.25030087, 24.30413391,\n",
              "       35.53260587, 12.03833649, 55.06544543, 37.05010811, 34.56828629,\n",
              "       14.47303808, 45.20490438, 30.18809909,  8.35255619, 41.23164604,\n",
              "       31.29511728, 43.71538323, 15.84028079, 46.3763799 , 43.19663952,\n",
              "       49.2764069 , 49.10293041, 11.40436455, 27.09263458, 38.53542349,\n",
              "       26.33413388, 42.00410142, 45.55520682, 42.03605497, 54.81968391,\n",
              "       42.67866017, 39.94634299, 31.57797806, 48.79469044, 49.21370435,\n",
              "       30.80390232, 39.54025386, 47.72550438, 31.56604163, 47.43990649,\n",
              "       47.5722348 , 44.48347983, 48.36398192, 33.40900868, 30.18879254,\n",
              "       39.26127286, 40.64686945, 32.85616039, 43.27266569, 12.20670274,\n",
              "       41.88391944, 45.11358353, 45.45502444, 39.42350722, 44.05824105,\n",
              "       22.90631719, 33.44132603, 31.14640633, 45.83699368, 46.11502952,\n",
              "       15.86453537, 40.90674815, 50.67187498, 30.12248207, 46.71919743,\n",
              "       42.47741593, 45.75304359, 37.9917357 , 43.72638665, 45.26783962,\n",
              "       12.57423082, 36.32533327, 51.52511502, 47.86661749, 47.50559438,\n",
              "       39.18755341, 46.60817597, 50.34477706, 38.59229829, 31.49517709,\n",
              "       37.0701843 , 33.42617982, 41.5211826 , 42.03724503, 30.66907831,\n",
              "       36.34958785, 37.84562594, 48.495704  , 11.67272423, 32.36243753,\n",
              "       39.02079878, 29.61749281, 30.17472025, 37.93761564,  8.78941418,\n",
              "       32.91071029, 45.11595359, 45.96423268, 27.4132388 , 13.27761368,\n",
              "       50.89283782, 42.57106527, 33.3923034 , 40.80293442, 52.26446256,\n",
              "       54.6754689 , 34.78133943, 38.00808213, 30.80929697, 49.15106356,\n",
              "       23.96771964, 47.01437943, 40.79279837, 34.52572468, 31.89787033,\n",
              "       48.18070526, 42.15254198, 40.49310003, 41.66152093, 44.70059771,\n",
              "       25.56294071, 32.35898291, 47.96893929, 41.54484001, 47.84233935,\n",
              "        8.65072241, 44.74737244, 37.49684722, 46.99938327, 35.88847528,\n",
              "       38.91388548, 50.46830278, 36.09620677, 40.26091173, 40.16964826,\n",
              "       47.20192462, 26.58670677, 36.58844252, 37.00300444, 43.31947675,\n",
              "       51.38405277, 34.36929094, 24.22373311, 36.84534629, 43.51238236,\n",
              "       45.50312011, 36.13430934, 47.48981565, 45.62519391, 50.51538784,\n",
              "       42.34287948, 51.78794367, 12.57654259, 47.09318717, 19.44321144,\n",
              "       29.41819405, 13.30364613, 12.13810101, 29.11696502, 43.01011348,\n",
              "       50.1359295 , 49.42305646, 46.41816089, 46.8153983 , 37.07436269,\n",
              "       38.9243922 , 51.43965554, 42.13706194, 43.17531034, 40.38392395,\n",
              "       47.50559438, 40.43264704, 45.38336261, 54.66160959, 27.05061331,\n",
              "       53.42977007, 39.96199434, 16.32564794, 24.80504652, 36.21394915,\n",
              "       43.91060764, 53.89088265, 35.18795266, 42.68542485, 35.76541808,\n",
              "       47.92973267, 43.16707667, 46.61407849, 47.06308717])"
            ]
          },
          "metadata": {},
          "execution_count": 49
        }
      ]
    },
    {
      "cell_type": "code",
      "source": [
        "y_train"
      ],
      "metadata": {
        "id": "ult8P10CXZv_",
        "colab": {
          "base_uri": "https://localhost:8080/"
        },
        "outputId": "ce1b8a31-c79e-410e-c8e3-ef5be58de435"
      },
      "execution_count": 50,
      "outputs": [
        {
          "output_type": "execute_result",
          "data": {
            "text/plain": [
              "7       46.7\n",
              "194     29.3\n",
              "19      47.7\n",
              "176     19.2\n",
              "367     20.9\n",
              "       ...  \n",
              "71      40.8\n",
              "106     47.1\n",
              "270    117.5\n",
              "348     53.7\n",
              "102     54.4\n",
              "Name: Y house price of unit area, Length: 289, dtype: float64"
            ]
          },
          "metadata": {},
          "execution_count": 50
        }
      ]
    },
    {
      "cell_type": "code",
      "source": [
        "y_prediction_test=model.predict(X1_test)"
      ],
      "metadata": {
        "id": "H9p2SgJuXZsH"
      },
      "execution_count": 51,
      "outputs": []
    },
    {
      "cell_type": "code",
      "source": [
        "y_prediction_test"
      ],
      "metadata": {
        "id": "Vfo7buv2XZmA",
        "colab": {
          "base_uri": "https://localhost:8080/"
        },
        "outputId": "0574896a-cc71-433f-898c-07052df4d714"
      },
      "execution_count": 52,
      "outputs": [
        {
          "output_type": "execute_result",
          "data": {
            "text/plain": [
              "array([47.55430212, 41.08372744, 44.25551663, 40.51685112, 27.43467608,\n",
              "       45.85435624, 44.70296876, 46.57752144, 23.86072119, 54.35199522,\n",
              "       34.63011363, 36.34958785, 37.34518438, 23.49428018, 36.02735916,\n",
              "       34.56828629, 44.01823263, 45.04246804, 29.9554971 , 43.96338099,\n",
              "        0.09450675, 35.291724  , 48.09455663, 45.54503941, 10.6006418 ,\n",
              "       39.9786752 , 11.9116313 , 42.79356737, 35.67204264, 38.09573519,\n",
              "       12.98819108, 40.13164278, 35.44632378, 27.09263458, 46.57230583,\n",
              "       32.08134705, 50.62714445, 13.2533591 , 49.8007962 , 40.83574406,\n",
              "       39.02898306, 40.92260381, 47.61743515, 37.68719274, 39.67028734,\n",
              "       46.64468542, 43.57375428, 19.40851794, 46.95629589, 45.93056809,\n",
              "       48.03966928, 48.79469044, 43.06419598, 43.00021216, 36.56049741,\n",
              "       14.20568662, 37.31495695, 34.30916207, 28.33264665, 46.09215428,\n",
              "       32.92580137, 32.83028385, 14.20568662,  8.3906898 ,  9.79703308,\n",
              "       34.33939647, 27.76485421, 46.75860125, 33.77722462, 30.85241149,\n",
              "       45.70501009, 39.07276122, 45.50942841, 45.00472078, 35.59161518,\n",
              "       37.74197487, 38.450681  , 37.63852526, 40.76300959, 33.88758966,\n",
              "       42.52501106, 43.31378324, 27.56441871, 39.40936415, 33.8977811 ,\n",
              "       30.61439071, 39.93460642, 45.36129734, 34.86088945, 39.96760778,\n",
              "       12.55982   , 41.4248276 , 41.87470921, 48.61756325, 46.67493517,\n",
              "       40.34138938, 34.2628639 , 45.3400411 , 32.29706728, 47.46416107,\n",
              "       29.69148895, 34.11146083, 43.36677103, 30.63583283, 48.77316661,\n",
              "       49.23795893, 30.34082584, 26.11105207, 40.9879696 , 38.89338679,\n",
              "       37.24238803, 40.02563617, 48.48697441, 45.26509346, 18.10869352,\n",
              "       41.23164604, 45.60093933, 43.63953623, 31.35568965, 31.75622985,\n",
              "       46.20909815, 14.58093806, 50.40747066, 46.60197459, 37.99631926])"
            ]
          },
          "metadata": {},
          "execution_count": 52
        }
      ]
    },
    {
      "cell_type": "code",
      "source": [
        "y_test"
      ],
      "metadata": {
        "id": "1neqlQBYXZit",
        "colab": {
          "base_uri": "https://localhost:8080/"
        },
        "outputId": "77bf6144-cba6-4cd9-8f0d-6b96c3a6a37f"
      },
      "execution_count": 53,
      "outputs": [
        {
          "output_type": "execute_result",
          "data": {
            "text/plain": [
              "358    45.1\n",
              "350    42.3\n",
              "373    52.2\n",
              "399    37.3\n",
              "369    22.8\n",
              "       ... \n",
              "268    40.1\n",
              "148    45.1\n",
              "16     70.1\n",
              "66     50.7\n",
              "341    37.0\n",
              "Name: Y house price of unit area, Length: 125, dtype: float64"
            ]
          },
          "metadata": {},
          "execution_count": 53
        }
      ]
    },
    {
      "cell_type": "code",
      "source": [
        "#Accuracy\n",
        "Model_accuracy=model.score(X1_test,y_test)"
      ],
      "metadata": {
        "id": "uuisPjdhXZfv"
      },
      "execution_count": 54,
      "outputs": []
    },
    {
      "cell_type": "code",
      "source": [
        "Model_accuracy"
      ],
      "metadata": {
        "id": "AYJbmDlkXZcu",
        "colab": {
          "base_uri": "https://localhost:8080/"
        },
        "outputId": "6ee87e37-0150-4655-ddb7-488cfe6a8b36"
      },
      "execution_count": 55,
      "outputs": [
        {
          "output_type": "execute_result",
          "data": {
            "text/plain": [
              "0.5600638168604302"
            ]
          },
          "metadata": {},
          "execution_count": 55
        }
      ]
    },
    {
      "cell_type": "markdown",
      "source": [
        "**Mean Squared Error(MSE)**\n",
        "---\n",
        "**Mean absolute Error(MAE)**\n"
      ],
      "metadata": {
        "id": "NaZOkTdjMEui"
      }
    },
    {
      "cell_type": "code",
      "source": [
        "from sklearn.metrics import mean_squared_error,mean_absolute_error"
      ],
      "metadata": {
        "id": "RJ9bLqthLWTB"
      },
      "execution_count": 56,
      "outputs": []
    },
    {
      "cell_type": "code",
      "source": [
        "MSE=mean_squared_error(y_test,y_prediction_test)"
      ],
      "metadata": {
        "id": "26ZU-8NNMZyR"
      },
      "execution_count": 57,
      "outputs": []
    },
    {
      "cell_type": "code",
      "source": [
        "MSE"
      ],
      "metadata": {
        "colab": {
          "base_uri": "https://localhost:8080/"
        },
        "id": "W104VLhPMZu2",
        "outputId": "e3c11109-ed4b-40c9-ec9f-c67e10242962"
      },
      "execution_count": 58,
      "outputs": [
        {
          "output_type": "execute_result",
          "data": {
            "text/plain": [
              "73.56837932850162"
            ]
          },
          "metadata": {},
          "execution_count": 58
        }
      ]
    },
    {
      "cell_type": "code",
      "source": [
        "MAE=mean_absolute_error(y_test,y_prediction_test)"
      ],
      "metadata": {
        "id": "5d8nqWa5MZrM"
      },
      "execution_count": 59,
      "outputs": []
    },
    {
      "cell_type": "code",
      "source": [
        "MAE"
      ],
      "metadata": {
        "colab": {
          "base_uri": "https://localhost:8080/"
        },
        "id": "lQGx34X5NG88",
        "outputId": "e6b3f323-8813-47f4-8616-50527f772269"
      },
      "execution_count": 60,
      "outputs": [
        {
          "output_type": "execute_result",
          "data": {
            "text/plain": [
              "6.184836340096856"
            ]
          },
          "metadata": {},
          "execution_count": 60
        }
      ]
    },
    {
      "cell_type": "markdown",
      "source": [
        "**R-Squred**"
      ],
      "metadata": {
        "id": "actoYmhGOkJ0"
      }
    },
    {
      "cell_type": "code",
      "source": [
        "from sklearn.metrics import r2_score\n"
      ],
      "metadata": {
        "id": "Hgiuc4mrOMLG"
      },
      "execution_count": 61,
      "outputs": []
    },
    {
      "cell_type": "code",
      "source": [
        "r=r2_score(y_test,y_prediction_test)"
      ],
      "metadata": {
        "id": "Ycfke866OMGo"
      },
      "execution_count": 62,
      "outputs": []
    },
    {
      "cell_type": "code",
      "source": [
        "r"
      ],
      "metadata": {
        "colab": {
          "base_uri": "https://localhost:8080/"
        },
        "id": "NhDFTMNzOMDo",
        "outputId": "9ab964c2-2c41-47e5-ceb1-bf9f0211bc05"
      },
      "execution_count": 63,
      "outputs": [
        {
          "output_type": "execute_result",
          "data": {
            "text/plain": [
              "0.5600638168604302"
            ]
          },
          "metadata": {},
          "execution_count": 63
        }
      ]
    },
    {
      "cell_type": "markdown",
      "source": [
        "# **Part-3\\Feature Scaling Comparision**\n",
        "\n",
        "> **The prediction accuracy of Linear Regression for both (scaling data & Without scaling data) is same,which is 56%**\n",
        "\n"
      ],
      "metadata": {
        "id": "MI60_yvvHt-D"
      }
    },
    {
      "cell_type": "code",
      "source": [],
      "metadata": {
        "id": "gRfSJ7C_HtH6"
      },
      "execution_count": null,
      "outputs": []
    },
    {
      "cell_type": "markdown",
      "source": [
        "# **Part-4\\Visualization & Analysis**"
      ],
      "metadata": {
        "id": "lnAmTWyZPFJ6"
      }
    },
    {
      "cell_type": "code",
      "source": [],
      "metadata": {
        "id": "4Pw8RYf0GWJ9"
      },
      "execution_count": null,
      "outputs": []
    },
    {
      "cell_type": "code",
      "source": [],
      "metadata": {
        "id": "fuaD0b-mGWDV"
      },
      "execution_count": null,
      "outputs": []
    },
    {
      "cell_type": "markdown",
      "source": [
        "# **Part-5\\Advanced Problem(optional)**"
      ],
      "metadata": {
        "id": "izpetUtVQLor"
      }
    },
    {
      "cell_type": "code",
      "source": [
        "#Load Dataset\n",
        "dataset=pd.read_csv(\"/content/drive/MyDrive/Data/Real estate.csv\")"
      ],
      "metadata": {
        "id": "SiZRHABwQASa"
      },
      "execution_count": 64,
      "outputs": []
    },
    {
      "cell_type": "code",
      "source": [
        "dataset.head()"
      ],
      "metadata": {
        "colab": {
          "base_uri": "https://localhost:8080/",
          "height": 206
        },
        "id": "zK0VERb9QAOQ",
        "outputId": "30a5bdfd-0cb7-481e-8b00-67841d973c2e"
      },
      "execution_count": 65,
      "outputs": [
        {
          "output_type": "execute_result",
          "data": {
            "text/plain": [
              "   No  X1 transaction date  X2 house age  \\\n",
              "0   1             2012.917          32.0   \n",
              "1   2             2012.917          19.5   \n",
              "2   3             2013.583          13.3   \n",
              "3   4             2013.500          13.3   \n",
              "4   5             2012.833           5.0   \n",
              "\n",
              "   X3 distance to the nearest MRT station  X4 number of convenience stores  \\\n",
              "0                                84.87882                               10   \n",
              "1                               306.59470                                9   \n",
              "2                               561.98450                                5   \n",
              "3                               561.98450                                5   \n",
              "4                               390.56840                                5   \n",
              "\n",
              "   X5 latitude  X6 longitude  Y house price of unit area  \n",
              "0     24.98298     121.54024                        37.9  \n",
              "1     24.98034     121.53951                        42.2  \n",
              "2     24.98746     121.54391                        47.3  \n",
              "3     24.98746     121.54391                        54.8  \n",
              "4     24.97937     121.54245                        43.1  "
            ],
            "text/html": [
              "\n",
              "  <div id=\"df-43e7d686-0714-4e94-bc4f-18c85c0aae80\" class=\"colab-df-container\">\n",
              "    <div>\n",
              "<style scoped>\n",
              "    .dataframe tbody tr th:only-of-type {\n",
              "        vertical-align: middle;\n",
              "    }\n",
              "\n",
              "    .dataframe tbody tr th {\n",
              "        vertical-align: top;\n",
              "    }\n",
              "\n",
              "    .dataframe thead th {\n",
              "        text-align: right;\n",
              "    }\n",
              "</style>\n",
              "<table border=\"1\" class=\"dataframe\">\n",
              "  <thead>\n",
              "    <tr style=\"text-align: right;\">\n",
              "      <th></th>\n",
              "      <th>No</th>\n",
              "      <th>X1 transaction date</th>\n",
              "      <th>X2 house age</th>\n",
              "      <th>X3 distance to the nearest MRT station</th>\n",
              "      <th>X4 number of convenience stores</th>\n",
              "      <th>X5 latitude</th>\n",
              "      <th>X6 longitude</th>\n",
              "      <th>Y house price of unit area</th>\n",
              "    </tr>\n",
              "  </thead>\n",
              "  <tbody>\n",
              "    <tr>\n",
              "      <th>0</th>\n",
              "      <td>1</td>\n",
              "      <td>2012.917</td>\n",
              "      <td>32.0</td>\n",
              "      <td>84.87882</td>\n",
              "      <td>10</td>\n",
              "      <td>24.98298</td>\n",
              "      <td>121.54024</td>\n",
              "      <td>37.9</td>\n",
              "    </tr>\n",
              "    <tr>\n",
              "      <th>1</th>\n",
              "      <td>2</td>\n",
              "      <td>2012.917</td>\n",
              "      <td>19.5</td>\n",
              "      <td>306.59470</td>\n",
              "      <td>9</td>\n",
              "      <td>24.98034</td>\n",
              "      <td>121.53951</td>\n",
              "      <td>42.2</td>\n",
              "    </tr>\n",
              "    <tr>\n",
              "      <th>2</th>\n",
              "      <td>3</td>\n",
              "      <td>2013.583</td>\n",
              "      <td>13.3</td>\n",
              "      <td>561.98450</td>\n",
              "      <td>5</td>\n",
              "      <td>24.98746</td>\n",
              "      <td>121.54391</td>\n",
              "      <td>47.3</td>\n",
              "    </tr>\n",
              "    <tr>\n",
              "      <th>3</th>\n",
              "      <td>4</td>\n",
              "      <td>2013.500</td>\n",
              "      <td>13.3</td>\n",
              "      <td>561.98450</td>\n",
              "      <td>5</td>\n",
              "      <td>24.98746</td>\n",
              "      <td>121.54391</td>\n",
              "      <td>54.8</td>\n",
              "    </tr>\n",
              "    <tr>\n",
              "      <th>4</th>\n",
              "      <td>5</td>\n",
              "      <td>2012.833</td>\n",
              "      <td>5.0</td>\n",
              "      <td>390.56840</td>\n",
              "      <td>5</td>\n",
              "      <td>24.97937</td>\n",
              "      <td>121.54245</td>\n",
              "      <td>43.1</td>\n",
              "    </tr>\n",
              "  </tbody>\n",
              "</table>\n",
              "</div>\n",
              "    <div class=\"colab-df-buttons\">\n",
              "\n",
              "  <div class=\"colab-df-container\">\n",
              "    <button class=\"colab-df-convert\" onclick=\"convertToInteractive('df-43e7d686-0714-4e94-bc4f-18c85c0aae80')\"\n",
              "            title=\"Convert this dataframe to an interactive table.\"\n",
              "            style=\"display:none;\">\n",
              "\n",
              "  <svg xmlns=\"http://www.w3.org/2000/svg\" height=\"24px\" viewBox=\"0 -960 960 960\">\n",
              "    <path d=\"M120-120v-720h720v720H120Zm60-500h600v-160H180v160Zm220 220h160v-160H400v160Zm0 220h160v-160H400v160ZM180-400h160v-160H180v160Zm440 0h160v-160H620v160ZM180-180h160v-160H180v160Zm440 0h160v-160H620v160Z\"/>\n",
              "  </svg>\n",
              "    </button>\n",
              "\n",
              "  <style>\n",
              "    .colab-df-container {\n",
              "      display:flex;\n",
              "      gap: 12px;\n",
              "    }\n",
              "\n",
              "    .colab-df-convert {\n",
              "      background-color: #E8F0FE;\n",
              "      border: none;\n",
              "      border-radius: 50%;\n",
              "      cursor: pointer;\n",
              "      display: none;\n",
              "      fill: #1967D2;\n",
              "      height: 32px;\n",
              "      padding: 0 0 0 0;\n",
              "      width: 32px;\n",
              "    }\n",
              "\n",
              "    .colab-df-convert:hover {\n",
              "      background-color: #E2EBFA;\n",
              "      box-shadow: 0px 1px 2px rgba(60, 64, 67, 0.3), 0px 1px 3px 1px rgba(60, 64, 67, 0.15);\n",
              "      fill: #174EA6;\n",
              "    }\n",
              "\n",
              "    .colab-df-buttons div {\n",
              "      margin-bottom: 4px;\n",
              "    }\n",
              "\n",
              "    [theme=dark] .colab-df-convert {\n",
              "      background-color: #3B4455;\n",
              "      fill: #D2E3FC;\n",
              "    }\n",
              "\n",
              "    [theme=dark] .colab-df-convert:hover {\n",
              "      background-color: #434B5C;\n",
              "      box-shadow: 0px 1px 3px 1px rgba(0, 0, 0, 0.15);\n",
              "      filter: drop-shadow(0px 1px 2px rgba(0, 0, 0, 0.3));\n",
              "      fill: #FFFFFF;\n",
              "    }\n",
              "  </style>\n",
              "\n",
              "    <script>\n",
              "      const buttonEl =\n",
              "        document.querySelector('#df-43e7d686-0714-4e94-bc4f-18c85c0aae80 button.colab-df-convert');\n",
              "      buttonEl.style.display =\n",
              "        google.colab.kernel.accessAllowed ? 'block' : 'none';\n",
              "\n",
              "      async function convertToInteractive(key) {\n",
              "        const element = document.querySelector('#df-43e7d686-0714-4e94-bc4f-18c85c0aae80');\n",
              "        const dataTable =\n",
              "          await google.colab.kernel.invokeFunction('convertToInteractive',\n",
              "                                                    [key], {});\n",
              "        if (!dataTable) return;\n",
              "\n",
              "        const docLinkHtml = 'Like what you see? Visit the ' +\n",
              "          '<a target=\"_blank\" href=https://colab.research.google.com/notebooks/data_table.ipynb>data table notebook</a>'\n",
              "          + ' to learn more about interactive tables.';\n",
              "        element.innerHTML = '';\n",
              "        dataTable['output_type'] = 'display_data';\n",
              "        await google.colab.output.renderOutput(dataTable, element);\n",
              "        const docLink = document.createElement('div');\n",
              "        docLink.innerHTML = docLinkHtml;\n",
              "        element.appendChild(docLink);\n",
              "      }\n",
              "    </script>\n",
              "  </div>\n",
              "\n",
              "\n",
              "<div id=\"df-8d637b8c-89c2-43f1-b4b1-c1a594f73c60\">\n",
              "  <button class=\"colab-df-quickchart\" onclick=\"quickchart('df-8d637b8c-89c2-43f1-b4b1-c1a594f73c60')\"\n",
              "            title=\"Suggest charts.\"\n",
              "            style=\"display:none;\">\n",
              "\n",
              "<svg xmlns=\"http://www.w3.org/2000/svg\" height=\"24px\"viewBox=\"0 0 24 24\"\n",
              "     width=\"24px\">\n",
              "    <g>\n",
              "        <path d=\"M19 3H5c-1.1 0-2 .9-2 2v14c0 1.1.9 2 2 2h14c1.1 0 2-.9 2-2V5c0-1.1-.9-2-2-2zM9 17H7v-7h2v7zm4 0h-2V7h2v10zm4 0h-2v-4h2v4z\"/>\n",
              "    </g>\n",
              "</svg>\n",
              "  </button>\n",
              "\n",
              "<style>\n",
              "  .colab-df-quickchart {\n",
              "    background-color: #E8F0FE;\n",
              "    border: none;\n",
              "    border-radius: 50%;\n",
              "    cursor: pointer;\n",
              "    display: none;\n",
              "    fill: #1967D2;\n",
              "    height: 32px;\n",
              "    padding: 0 0 0 0;\n",
              "    width: 32px;\n",
              "  }\n",
              "\n",
              "  .colab-df-quickchart:hover {\n",
              "    background-color: #E2EBFA;\n",
              "    box-shadow: 0px 1px 2px rgba(60, 64, 67, 0.3), 0px 1px 3px 1px rgba(60, 64, 67, 0.15);\n",
              "    fill: #174EA6;\n",
              "  }\n",
              "\n",
              "  [theme=dark] .colab-df-quickchart {\n",
              "    background-color: #3B4455;\n",
              "    fill: #D2E3FC;\n",
              "  }\n",
              "\n",
              "  [theme=dark] .colab-df-quickchart:hover {\n",
              "    background-color: #434B5C;\n",
              "    box-shadow: 0px 1px 3px 1px rgba(0, 0, 0, 0.15);\n",
              "    filter: drop-shadow(0px 1px 2px rgba(0, 0, 0, 0.3));\n",
              "    fill: #FFFFFF;\n",
              "  }\n",
              "</style>\n",
              "\n",
              "  <script>\n",
              "    async function quickchart(key) {\n",
              "      const charts = await google.colab.kernel.invokeFunction(\n",
              "          'suggestCharts', [key], {});\n",
              "    }\n",
              "    (() => {\n",
              "      let quickchartButtonEl =\n",
              "        document.querySelector('#df-8d637b8c-89c2-43f1-b4b1-c1a594f73c60 button');\n",
              "      quickchartButtonEl.style.display =\n",
              "        google.colab.kernel.accessAllowed ? 'block' : 'none';\n",
              "    })();\n",
              "  </script>\n",
              "</div>\n",
              "    </div>\n",
              "  </div>\n"
            ]
          },
          "metadata": {},
          "execution_count": 65
        }
      ]
    },
    {
      "cell_type": "code",
      "source": [
        "x5=dataset.drop(columns=[\"No\",\"Y house price of unit area\"],axis=1)"
      ],
      "metadata": {
        "id": "efXlCPWtQAJz"
      },
      "execution_count": 66,
      "outputs": []
    },
    {
      "cell_type": "code",
      "source": [
        "x5.head(10)"
      ],
      "metadata": {
        "colab": {
          "base_uri": "https://localhost:8080/",
          "height": 363
        },
        "id": "dFhh4AtyQAGD",
        "outputId": "97e7a189-949f-44a4-fc51-1a2bcf5dc44c"
      },
      "execution_count": 67,
      "outputs": [
        {
          "output_type": "execute_result",
          "data": {
            "text/plain": [
              "   X1 transaction date  X2 house age  X3 distance to the nearest MRT station  \\\n",
              "0             2012.917          32.0                                84.87882   \n",
              "1             2012.917          19.5                               306.59470   \n",
              "2             2013.583          13.3                               561.98450   \n",
              "3             2013.500          13.3                               561.98450   \n",
              "4             2012.833           5.0                               390.56840   \n",
              "5             2012.667           7.1                              2175.03000   \n",
              "6             2012.667          34.5                               623.47310   \n",
              "7             2013.417          20.3                               287.60250   \n",
              "8             2013.500          31.7                              5512.03800   \n",
              "9             2013.417          17.9                              1783.18000   \n",
              "\n",
              "   X4 number of convenience stores  X5 latitude  X6 longitude  \n",
              "0                               10     24.98298     121.54024  \n",
              "1                                9     24.98034     121.53951  \n",
              "2                                5     24.98746     121.54391  \n",
              "3                                5     24.98746     121.54391  \n",
              "4                                5     24.97937     121.54245  \n",
              "5                                3     24.96305     121.51254  \n",
              "6                                7     24.97933     121.53642  \n",
              "7                                6     24.98042     121.54228  \n",
              "8                                1     24.95095     121.48458  \n",
              "9                                3     24.96731     121.51486  "
            ],
            "text/html": [
              "\n",
              "  <div id=\"df-fceeda16-6354-4ac6-8deb-1419ca8ae336\" class=\"colab-df-container\">\n",
              "    <div>\n",
              "<style scoped>\n",
              "    .dataframe tbody tr th:only-of-type {\n",
              "        vertical-align: middle;\n",
              "    }\n",
              "\n",
              "    .dataframe tbody tr th {\n",
              "        vertical-align: top;\n",
              "    }\n",
              "\n",
              "    .dataframe thead th {\n",
              "        text-align: right;\n",
              "    }\n",
              "</style>\n",
              "<table border=\"1\" class=\"dataframe\">\n",
              "  <thead>\n",
              "    <tr style=\"text-align: right;\">\n",
              "      <th></th>\n",
              "      <th>X1 transaction date</th>\n",
              "      <th>X2 house age</th>\n",
              "      <th>X3 distance to the nearest MRT station</th>\n",
              "      <th>X4 number of convenience stores</th>\n",
              "      <th>X5 latitude</th>\n",
              "      <th>X6 longitude</th>\n",
              "    </tr>\n",
              "  </thead>\n",
              "  <tbody>\n",
              "    <tr>\n",
              "      <th>0</th>\n",
              "      <td>2012.917</td>\n",
              "      <td>32.0</td>\n",
              "      <td>84.87882</td>\n",
              "      <td>10</td>\n",
              "      <td>24.98298</td>\n",
              "      <td>121.54024</td>\n",
              "    </tr>\n",
              "    <tr>\n",
              "      <th>1</th>\n",
              "      <td>2012.917</td>\n",
              "      <td>19.5</td>\n",
              "      <td>306.59470</td>\n",
              "      <td>9</td>\n",
              "      <td>24.98034</td>\n",
              "      <td>121.53951</td>\n",
              "    </tr>\n",
              "    <tr>\n",
              "      <th>2</th>\n",
              "      <td>2013.583</td>\n",
              "      <td>13.3</td>\n",
              "      <td>561.98450</td>\n",
              "      <td>5</td>\n",
              "      <td>24.98746</td>\n",
              "      <td>121.54391</td>\n",
              "    </tr>\n",
              "    <tr>\n",
              "      <th>3</th>\n",
              "      <td>2013.500</td>\n",
              "      <td>13.3</td>\n",
              "      <td>561.98450</td>\n",
              "      <td>5</td>\n",
              "      <td>24.98746</td>\n",
              "      <td>121.54391</td>\n",
              "    </tr>\n",
              "    <tr>\n",
              "      <th>4</th>\n",
              "      <td>2012.833</td>\n",
              "      <td>5.0</td>\n",
              "      <td>390.56840</td>\n",
              "      <td>5</td>\n",
              "      <td>24.97937</td>\n",
              "      <td>121.54245</td>\n",
              "    </tr>\n",
              "    <tr>\n",
              "      <th>5</th>\n",
              "      <td>2012.667</td>\n",
              "      <td>7.1</td>\n",
              "      <td>2175.03000</td>\n",
              "      <td>3</td>\n",
              "      <td>24.96305</td>\n",
              "      <td>121.51254</td>\n",
              "    </tr>\n",
              "    <tr>\n",
              "      <th>6</th>\n",
              "      <td>2012.667</td>\n",
              "      <td>34.5</td>\n",
              "      <td>623.47310</td>\n",
              "      <td>7</td>\n",
              "      <td>24.97933</td>\n",
              "      <td>121.53642</td>\n",
              "    </tr>\n",
              "    <tr>\n",
              "      <th>7</th>\n",
              "      <td>2013.417</td>\n",
              "      <td>20.3</td>\n",
              "      <td>287.60250</td>\n",
              "      <td>6</td>\n",
              "      <td>24.98042</td>\n",
              "      <td>121.54228</td>\n",
              "    </tr>\n",
              "    <tr>\n",
              "      <th>8</th>\n",
              "      <td>2013.500</td>\n",
              "      <td>31.7</td>\n",
              "      <td>5512.03800</td>\n",
              "      <td>1</td>\n",
              "      <td>24.95095</td>\n",
              "      <td>121.48458</td>\n",
              "    </tr>\n",
              "    <tr>\n",
              "      <th>9</th>\n",
              "      <td>2013.417</td>\n",
              "      <td>17.9</td>\n",
              "      <td>1783.18000</td>\n",
              "      <td>3</td>\n",
              "      <td>24.96731</td>\n",
              "      <td>121.51486</td>\n",
              "    </tr>\n",
              "  </tbody>\n",
              "</table>\n",
              "</div>\n",
              "    <div class=\"colab-df-buttons\">\n",
              "\n",
              "  <div class=\"colab-df-container\">\n",
              "    <button class=\"colab-df-convert\" onclick=\"convertToInteractive('df-fceeda16-6354-4ac6-8deb-1419ca8ae336')\"\n",
              "            title=\"Convert this dataframe to an interactive table.\"\n",
              "            style=\"display:none;\">\n",
              "\n",
              "  <svg xmlns=\"http://www.w3.org/2000/svg\" height=\"24px\" viewBox=\"0 -960 960 960\">\n",
              "    <path d=\"M120-120v-720h720v720H120Zm60-500h600v-160H180v160Zm220 220h160v-160H400v160Zm0 220h160v-160H400v160ZM180-400h160v-160H180v160Zm440 0h160v-160H620v160ZM180-180h160v-160H180v160Zm440 0h160v-160H620v160Z\"/>\n",
              "  </svg>\n",
              "    </button>\n",
              "\n",
              "  <style>\n",
              "    .colab-df-container {\n",
              "      display:flex;\n",
              "      gap: 12px;\n",
              "    }\n",
              "\n",
              "    .colab-df-convert {\n",
              "      background-color: #E8F0FE;\n",
              "      border: none;\n",
              "      border-radius: 50%;\n",
              "      cursor: pointer;\n",
              "      display: none;\n",
              "      fill: #1967D2;\n",
              "      height: 32px;\n",
              "      padding: 0 0 0 0;\n",
              "      width: 32px;\n",
              "    }\n",
              "\n",
              "    .colab-df-convert:hover {\n",
              "      background-color: #E2EBFA;\n",
              "      box-shadow: 0px 1px 2px rgba(60, 64, 67, 0.3), 0px 1px 3px 1px rgba(60, 64, 67, 0.15);\n",
              "      fill: #174EA6;\n",
              "    }\n",
              "\n",
              "    .colab-df-buttons div {\n",
              "      margin-bottom: 4px;\n",
              "    }\n",
              "\n",
              "    [theme=dark] .colab-df-convert {\n",
              "      background-color: #3B4455;\n",
              "      fill: #D2E3FC;\n",
              "    }\n",
              "\n",
              "    [theme=dark] .colab-df-convert:hover {\n",
              "      background-color: #434B5C;\n",
              "      box-shadow: 0px 1px 3px 1px rgba(0, 0, 0, 0.15);\n",
              "      filter: drop-shadow(0px 1px 2px rgba(0, 0, 0, 0.3));\n",
              "      fill: #FFFFFF;\n",
              "    }\n",
              "  </style>\n",
              "\n",
              "    <script>\n",
              "      const buttonEl =\n",
              "        document.querySelector('#df-fceeda16-6354-4ac6-8deb-1419ca8ae336 button.colab-df-convert');\n",
              "      buttonEl.style.display =\n",
              "        google.colab.kernel.accessAllowed ? 'block' : 'none';\n",
              "\n",
              "      async function convertToInteractive(key) {\n",
              "        const element = document.querySelector('#df-fceeda16-6354-4ac6-8deb-1419ca8ae336');\n",
              "        const dataTable =\n",
              "          await google.colab.kernel.invokeFunction('convertToInteractive',\n",
              "                                                    [key], {});\n",
              "        if (!dataTable) return;\n",
              "\n",
              "        const docLinkHtml = 'Like what you see? Visit the ' +\n",
              "          '<a target=\"_blank\" href=https://colab.research.google.com/notebooks/data_table.ipynb>data table notebook</a>'\n",
              "          + ' to learn more about interactive tables.';\n",
              "        element.innerHTML = '';\n",
              "        dataTable['output_type'] = 'display_data';\n",
              "        await google.colab.output.renderOutput(dataTable, element);\n",
              "        const docLink = document.createElement('div');\n",
              "        docLink.innerHTML = docLinkHtml;\n",
              "        element.appendChild(docLink);\n",
              "      }\n",
              "    </script>\n",
              "  </div>\n",
              "\n",
              "\n",
              "<div id=\"df-1a4792dd-9f60-406c-9067-2bef5cbdb547\">\n",
              "  <button class=\"colab-df-quickchart\" onclick=\"quickchart('df-1a4792dd-9f60-406c-9067-2bef5cbdb547')\"\n",
              "            title=\"Suggest charts.\"\n",
              "            style=\"display:none;\">\n",
              "\n",
              "<svg xmlns=\"http://www.w3.org/2000/svg\" height=\"24px\"viewBox=\"0 0 24 24\"\n",
              "     width=\"24px\">\n",
              "    <g>\n",
              "        <path d=\"M19 3H5c-1.1 0-2 .9-2 2v14c0 1.1.9 2 2 2h14c1.1 0 2-.9 2-2V5c0-1.1-.9-2-2-2zM9 17H7v-7h2v7zm4 0h-2V7h2v10zm4 0h-2v-4h2v4z\"/>\n",
              "    </g>\n",
              "</svg>\n",
              "  </button>\n",
              "\n",
              "<style>\n",
              "  .colab-df-quickchart {\n",
              "    background-color: #E8F0FE;\n",
              "    border: none;\n",
              "    border-radius: 50%;\n",
              "    cursor: pointer;\n",
              "    display: none;\n",
              "    fill: #1967D2;\n",
              "    height: 32px;\n",
              "    padding: 0 0 0 0;\n",
              "    width: 32px;\n",
              "  }\n",
              "\n",
              "  .colab-df-quickchart:hover {\n",
              "    background-color: #E2EBFA;\n",
              "    box-shadow: 0px 1px 2px rgba(60, 64, 67, 0.3), 0px 1px 3px 1px rgba(60, 64, 67, 0.15);\n",
              "    fill: #174EA6;\n",
              "  }\n",
              "\n",
              "  [theme=dark] .colab-df-quickchart {\n",
              "    background-color: #3B4455;\n",
              "    fill: #D2E3FC;\n",
              "  }\n",
              "\n",
              "  [theme=dark] .colab-df-quickchart:hover {\n",
              "    background-color: #434B5C;\n",
              "    box-shadow: 0px 1px 3px 1px rgba(0, 0, 0, 0.15);\n",
              "    filter: drop-shadow(0px 1px 2px rgba(0, 0, 0, 0.3));\n",
              "    fill: #FFFFFF;\n",
              "  }\n",
              "</style>\n",
              "\n",
              "  <script>\n",
              "    async function quickchart(key) {\n",
              "      const charts = await google.colab.kernel.invokeFunction(\n",
              "          'suggestCharts', [key], {});\n",
              "    }\n",
              "    (() => {\n",
              "      let quickchartButtonEl =\n",
              "        document.querySelector('#df-1a4792dd-9f60-406c-9067-2bef5cbdb547 button');\n",
              "      quickchartButtonEl.style.display =\n",
              "        google.colab.kernel.accessAllowed ? 'block' : 'none';\n",
              "    })();\n",
              "  </script>\n",
              "</div>\n",
              "    </div>\n",
              "  </div>\n"
            ]
          },
          "metadata": {},
          "execution_count": 67
        }
      ]
    },
    {
      "cell_type": "code",
      "source": [
        "y5=dataset[\"Y house price of unit area\"]"
      ],
      "metadata": {
        "id": "YNGZhpbeQABv"
      },
      "execution_count": 68,
      "outputs": []
    },
    {
      "cell_type": "code",
      "source": [
        "y5"
      ],
      "metadata": {
        "colab": {
          "base_uri": "https://localhost:8080/"
        },
        "id": "QkJv3tp4P_9E",
        "outputId": "5c7b6de6-7d96-45bc-f901-6eb3193677c2"
      },
      "execution_count": 69,
      "outputs": [
        {
          "output_type": "execute_result",
          "data": {
            "text/plain": [
              "0      37.9\n",
              "1      42.2\n",
              "2      47.3\n",
              "3      54.8\n",
              "4      43.1\n",
              "       ... \n",
              "409    15.4\n",
              "410    50.0\n",
              "411    40.6\n",
              "412    52.5\n",
              "413    63.9\n",
              "Name: Y house price of unit area, Length: 414, dtype: float64"
            ]
          },
          "metadata": {},
          "execution_count": 69
        }
      ]
    },
    {
      "cell_type": "code",
      "source": [
        "from sklearn.preprocessing import MinMaxScaler"
      ],
      "metadata": {
        "id": "fp9Rp1x2RWT1"
      },
      "execution_count": 70,
      "outputs": []
    },
    {
      "cell_type": "code",
      "source": [
        "scaler=MinMaxScaler()"
      ],
      "metadata": {
        "id": "MNmxd-plRWQq"
      },
      "execution_count": 71,
      "outputs": []
    },
    {
      "cell_type": "code",
      "source": [
        "col_normalize=[\"X1 transaction date\",\"X2 house age\",\"X3 distance to the nearest MRT station\",\"X4 number of convenience stores\",\"X5 latitude\",\"X6 longitude\"]"
      ],
      "metadata": {
        "id": "1H5pB9PVRWMk"
      },
      "execution_count": 72,
      "outputs": []
    },
    {
      "cell_type": "code",
      "source": [
        "x5[col_normalize]=scaler.fit_transform(x5[col_normalize])"
      ],
      "metadata": {
        "id": "onnLtZwtWbgu"
      },
      "execution_count": 73,
      "outputs": []
    },
    {
      "cell_type": "code",
      "source": [
        "x5[col_normalize]"
      ],
      "metadata": {
        "colab": {
          "base_uri": "https://localhost:8080/",
          "height": 424
        },
        "id": "m46_xUg8Wbc9",
        "outputId": "13ddada9-ec05-4c8d-e41f-b68de01f4dc1"
      },
      "execution_count": 74,
      "outputs": [
        {
          "output_type": "execute_result",
          "data": {
            "text/plain": [
              "     X1 transaction date  X2 house age  \\\n",
              "0               0.272926      0.730594   \n",
              "1               0.272926      0.445205   \n",
              "2               1.000000      0.303653   \n",
              "3               0.909389      0.303653   \n",
              "4               0.181223      0.114155   \n",
              "..                   ...           ...   \n",
              "409             0.363537      0.312785   \n",
              "410             0.000000      0.127854   \n",
              "411             0.636463      0.429224   \n",
              "412             0.363537      0.184932   \n",
              "413             0.909389      0.148402   \n",
              "\n",
              "     X3 distance to the nearest MRT station  X4 number of convenience stores  \\\n",
              "0                                  0.009513                              1.0   \n",
              "1                                  0.043809                              0.9   \n",
              "2                                  0.083315                              0.5   \n",
              "3                                  0.083315                              0.5   \n",
              "4                                  0.056799                              0.5   \n",
              "..                                      ...                              ...   \n",
              "409                                0.627820                              0.0   \n",
              "410                                0.010375                              0.9   \n",
              "411                                0.056861                              0.7   \n",
              "412                                0.012596                              0.5   \n",
              "413                                0.010375                              0.9   \n",
              "\n",
              "     X5 latitude  X6 longitude  \n",
              "0       0.616941      0.719323  \n",
              "1       0.584949      0.711451  \n",
              "2       0.671231      0.758896  \n",
              "3       0.671231      0.758896  \n",
              "4       0.573194      0.743153  \n",
              "..           ...           ...  \n",
              "409     0.114881      0.326504  \n",
              "410     0.512118      0.750162  \n",
              "411     0.571498      0.715225  \n",
              "412     0.420141      0.723959  \n",
              "413     0.512118      0.750162  \n",
              "\n",
              "[414 rows x 6 columns]"
            ],
            "text/html": [
              "\n",
              "  <div id=\"df-5c9bc8ee-f8fa-41be-9402-19e5e9678c38\" class=\"colab-df-container\">\n",
              "    <div>\n",
              "<style scoped>\n",
              "    .dataframe tbody tr th:only-of-type {\n",
              "        vertical-align: middle;\n",
              "    }\n",
              "\n",
              "    .dataframe tbody tr th {\n",
              "        vertical-align: top;\n",
              "    }\n",
              "\n",
              "    .dataframe thead th {\n",
              "        text-align: right;\n",
              "    }\n",
              "</style>\n",
              "<table border=\"1\" class=\"dataframe\">\n",
              "  <thead>\n",
              "    <tr style=\"text-align: right;\">\n",
              "      <th></th>\n",
              "      <th>X1 transaction date</th>\n",
              "      <th>X2 house age</th>\n",
              "      <th>X3 distance to the nearest MRT station</th>\n",
              "      <th>X4 number of convenience stores</th>\n",
              "      <th>X5 latitude</th>\n",
              "      <th>X6 longitude</th>\n",
              "    </tr>\n",
              "  </thead>\n",
              "  <tbody>\n",
              "    <tr>\n",
              "      <th>0</th>\n",
              "      <td>0.272926</td>\n",
              "      <td>0.730594</td>\n",
              "      <td>0.009513</td>\n",
              "      <td>1.0</td>\n",
              "      <td>0.616941</td>\n",
              "      <td>0.719323</td>\n",
              "    </tr>\n",
              "    <tr>\n",
              "      <th>1</th>\n",
              "      <td>0.272926</td>\n",
              "      <td>0.445205</td>\n",
              "      <td>0.043809</td>\n",
              "      <td>0.9</td>\n",
              "      <td>0.584949</td>\n",
              "      <td>0.711451</td>\n",
              "    </tr>\n",
              "    <tr>\n",
              "      <th>2</th>\n",
              "      <td>1.000000</td>\n",
              "      <td>0.303653</td>\n",
              "      <td>0.083315</td>\n",
              "      <td>0.5</td>\n",
              "      <td>0.671231</td>\n",
              "      <td>0.758896</td>\n",
              "    </tr>\n",
              "    <tr>\n",
              "      <th>3</th>\n",
              "      <td>0.909389</td>\n",
              "      <td>0.303653</td>\n",
              "      <td>0.083315</td>\n",
              "      <td>0.5</td>\n",
              "      <td>0.671231</td>\n",
              "      <td>0.758896</td>\n",
              "    </tr>\n",
              "    <tr>\n",
              "      <th>4</th>\n",
              "      <td>0.181223</td>\n",
              "      <td>0.114155</td>\n",
              "      <td>0.056799</td>\n",
              "      <td>0.5</td>\n",
              "      <td>0.573194</td>\n",
              "      <td>0.743153</td>\n",
              "    </tr>\n",
              "    <tr>\n",
              "      <th>...</th>\n",
              "      <td>...</td>\n",
              "      <td>...</td>\n",
              "      <td>...</td>\n",
              "      <td>...</td>\n",
              "      <td>...</td>\n",
              "      <td>...</td>\n",
              "    </tr>\n",
              "    <tr>\n",
              "      <th>409</th>\n",
              "      <td>0.363537</td>\n",
              "      <td>0.312785</td>\n",
              "      <td>0.627820</td>\n",
              "      <td>0.0</td>\n",
              "      <td>0.114881</td>\n",
              "      <td>0.326504</td>\n",
              "    </tr>\n",
              "    <tr>\n",
              "      <th>410</th>\n",
              "      <td>0.000000</td>\n",
              "      <td>0.127854</td>\n",
              "      <td>0.010375</td>\n",
              "      <td>0.9</td>\n",
              "      <td>0.512118</td>\n",
              "      <td>0.750162</td>\n",
              "    </tr>\n",
              "    <tr>\n",
              "      <th>411</th>\n",
              "      <td>0.636463</td>\n",
              "      <td>0.429224</td>\n",
              "      <td>0.056861</td>\n",
              "      <td>0.7</td>\n",
              "      <td>0.571498</td>\n",
              "      <td>0.715225</td>\n",
              "    </tr>\n",
              "    <tr>\n",
              "      <th>412</th>\n",
              "      <td>0.363537</td>\n",
              "      <td>0.184932</td>\n",
              "      <td>0.012596</td>\n",
              "      <td>0.5</td>\n",
              "      <td>0.420141</td>\n",
              "      <td>0.723959</td>\n",
              "    </tr>\n",
              "    <tr>\n",
              "      <th>413</th>\n",
              "      <td>0.909389</td>\n",
              "      <td>0.148402</td>\n",
              "      <td>0.010375</td>\n",
              "      <td>0.9</td>\n",
              "      <td>0.512118</td>\n",
              "      <td>0.750162</td>\n",
              "    </tr>\n",
              "  </tbody>\n",
              "</table>\n",
              "<p>414 rows × 6 columns</p>\n",
              "</div>\n",
              "    <div class=\"colab-df-buttons\">\n",
              "\n",
              "  <div class=\"colab-df-container\">\n",
              "    <button class=\"colab-df-convert\" onclick=\"convertToInteractive('df-5c9bc8ee-f8fa-41be-9402-19e5e9678c38')\"\n",
              "            title=\"Convert this dataframe to an interactive table.\"\n",
              "            style=\"display:none;\">\n",
              "\n",
              "  <svg xmlns=\"http://www.w3.org/2000/svg\" height=\"24px\" viewBox=\"0 -960 960 960\">\n",
              "    <path d=\"M120-120v-720h720v720H120Zm60-500h600v-160H180v160Zm220 220h160v-160H400v160Zm0 220h160v-160H400v160ZM180-400h160v-160H180v160Zm440 0h160v-160H620v160ZM180-180h160v-160H180v160Zm440 0h160v-160H620v160Z\"/>\n",
              "  </svg>\n",
              "    </button>\n",
              "\n",
              "  <style>\n",
              "    .colab-df-container {\n",
              "      display:flex;\n",
              "      gap: 12px;\n",
              "    }\n",
              "\n",
              "    .colab-df-convert {\n",
              "      background-color: #E8F0FE;\n",
              "      border: none;\n",
              "      border-radius: 50%;\n",
              "      cursor: pointer;\n",
              "      display: none;\n",
              "      fill: #1967D2;\n",
              "      height: 32px;\n",
              "      padding: 0 0 0 0;\n",
              "      width: 32px;\n",
              "    }\n",
              "\n",
              "    .colab-df-convert:hover {\n",
              "      background-color: #E2EBFA;\n",
              "      box-shadow: 0px 1px 2px rgba(60, 64, 67, 0.3), 0px 1px 3px 1px rgba(60, 64, 67, 0.15);\n",
              "      fill: #174EA6;\n",
              "    }\n",
              "\n",
              "    .colab-df-buttons div {\n",
              "      margin-bottom: 4px;\n",
              "    }\n",
              "\n",
              "    [theme=dark] .colab-df-convert {\n",
              "      background-color: #3B4455;\n",
              "      fill: #D2E3FC;\n",
              "    }\n",
              "\n",
              "    [theme=dark] .colab-df-convert:hover {\n",
              "      background-color: #434B5C;\n",
              "      box-shadow: 0px 1px 3px 1px rgba(0, 0, 0, 0.15);\n",
              "      filter: drop-shadow(0px 1px 2px rgba(0, 0, 0, 0.3));\n",
              "      fill: #FFFFFF;\n",
              "    }\n",
              "  </style>\n",
              "\n",
              "    <script>\n",
              "      const buttonEl =\n",
              "        document.querySelector('#df-5c9bc8ee-f8fa-41be-9402-19e5e9678c38 button.colab-df-convert');\n",
              "      buttonEl.style.display =\n",
              "        google.colab.kernel.accessAllowed ? 'block' : 'none';\n",
              "\n",
              "      async function convertToInteractive(key) {\n",
              "        const element = document.querySelector('#df-5c9bc8ee-f8fa-41be-9402-19e5e9678c38');\n",
              "        const dataTable =\n",
              "          await google.colab.kernel.invokeFunction('convertToInteractive',\n",
              "                                                    [key], {});\n",
              "        if (!dataTable) return;\n",
              "\n",
              "        const docLinkHtml = 'Like what you see? Visit the ' +\n",
              "          '<a target=\"_blank\" href=https://colab.research.google.com/notebooks/data_table.ipynb>data table notebook</a>'\n",
              "          + ' to learn more about interactive tables.';\n",
              "        element.innerHTML = '';\n",
              "        dataTable['output_type'] = 'display_data';\n",
              "        await google.colab.output.renderOutput(dataTable, element);\n",
              "        const docLink = document.createElement('div');\n",
              "        docLink.innerHTML = docLinkHtml;\n",
              "        element.appendChild(docLink);\n",
              "      }\n",
              "    </script>\n",
              "  </div>\n",
              "\n",
              "\n",
              "<div id=\"df-9e981b4c-21b8-4ab5-b2cc-52a9a397352c\">\n",
              "  <button class=\"colab-df-quickchart\" onclick=\"quickchart('df-9e981b4c-21b8-4ab5-b2cc-52a9a397352c')\"\n",
              "            title=\"Suggest charts.\"\n",
              "            style=\"display:none;\">\n",
              "\n",
              "<svg xmlns=\"http://www.w3.org/2000/svg\" height=\"24px\"viewBox=\"0 0 24 24\"\n",
              "     width=\"24px\">\n",
              "    <g>\n",
              "        <path d=\"M19 3H5c-1.1 0-2 .9-2 2v14c0 1.1.9 2 2 2h14c1.1 0 2-.9 2-2V5c0-1.1-.9-2-2-2zM9 17H7v-7h2v7zm4 0h-2V7h2v10zm4 0h-2v-4h2v4z\"/>\n",
              "    </g>\n",
              "</svg>\n",
              "  </button>\n",
              "\n",
              "<style>\n",
              "  .colab-df-quickchart {\n",
              "    background-color: #E8F0FE;\n",
              "    border: none;\n",
              "    border-radius: 50%;\n",
              "    cursor: pointer;\n",
              "    display: none;\n",
              "    fill: #1967D2;\n",
              "    height: 32px;\n",
              "    padding: 0 0 0 0;\n",
              "    width: 32px;\n",
              "  }\n",
              "\n",
              "  .colab-df-quickchart:hover {\n",
              "    background-color: #E2EBFA;\n",
              "    box-shadow: 0px 1px 2px rgba(60, 64, 67, 0.3), 0px 1px 3px 1px rgba(60, 64, 67, 0.15);\n",
              "    fill: #174EA6;\n",
              "  }\n",
              "\n",
              "  [theme=dark] .colab-df-quickchart {\n",
              "    background-color: #3B4455;\n",
              "    fill: #D2E3FC;\n",
              "  }\n",
              "\n",
              "  [theme=dark] .colab-df-quickchart:hover {\n",
              "    background-color: #434B5C;\n",
              "    box-shadow: 0px 1px 3px 1px rgba(0, 0, 0, 0.15);\n",
              "    filter: drop-shadow(0px 1px 2px rgba(0, 0, 0, 0.3));\n",
              "    fill: #FFFFFF;\n",
              "  }\n",
              "</style>\n",
              "\n",
              "  <script>\n",
              "    async function quickchart(key) {\n",
              "      const charts = await google.colab.kernel.invokeFunction(\n",
              "          'suggestCharts', [key], {});\n",
              "    }\n",
              "    (() => {\n",
              "      let quickchartButtonEl =\n",
              "        document.querySelector('#df-9e981b4c-21b8-4ab5-b2cc-52a9a397352c button');\n",
              "      quickchartButtonEl.style.display =\n",
              "        google.colab.kernel.accessAllowed ? 'block' : 'none';\n",
              "    })();\n",
              "  </script>\n",
              "</div>\n",
              "    </div>\n",
              "  </div>\n"
            ]
          },
          "metadata": {},
          "execution_count": 74
        }
      ]
    },
    {
      "cell_type": "code",
      "source": [
        "from sklearn.model_selection import train_test_split"
      ],
      "metadata": {
        "id": "TUGQK0JzYLB1"
      },
      "execution_count": 75,
      "outputs": []
    },
    {
      "cell_type": "code",
      "source": [
        "x5_train,x5_test,y_train,y_test=train_test_split(x5,y,test_size=0.3,random_state=42)"
      ],
      "metadata": {
        "id": "jD3qNazZYK7Q"
      },
      "execution_count": 76,
      "outputs": []
    },
    {
      "cell_type": "code",
      "source": [
        "print(\"Shape of x5_train:\",x5_train.shape)\n",
        "print(\"Shape of x5_test :\",x5_test.shape)\n",
        "print(\"Shape of y_train\",y_train.shape)\n",
        "print(\"Shape of y_test:\",y_test.shape)"
      ],
      "metadata": {
        "colab": {
          "base_uri": "https://localhost:8080/"
        },
        "id": "OIjB9u94YK15",
        "outputId": "93123d8a-ab78-4d5a-b723-9a25044821e5"
      },
      "execution_count": 77,
      "outputs": [
        {
          "output_type": "stream",
          "name": "stdout",
          "text": [
            "Shape of x5_train: (289, 6)\n",
            "Shape of x5_test : (125, 6)\n",
            "Shape of y_train (289,)\n",
            "Shape of y_test: (125,)\n"
          ]
        }
      ]
    },
    {
      "cell_type": "code",
      "source": [
        "from sklearn.linear_model import LinearRegression"
      ],
      "metadata": {
        "id": "qtUbmZ3PWbZg"
      },
      "execution_count": 78,
      "outputs": []
    },
    {
      "cell_type": "code",
      "source": [
        "model_5=LinearRegression()"
      ],
      "metadata": {
        "id": "9y6e7_q5X3Kv"
      },
      "execution_count": 79,
      "outputs": []
    },
    {
      "cell_type": "code",
      "source": [
        "model_5.fit(x5_train,y_train)"
      ],
      "metadata": {
        "colab": {
          "base_uri": "https://localhost:8080/",
          "height": 75
        },
        "id": "3QB500PeX3G9",
        "outputId": "11d85276-ba7d-4cf5-ca3b-c4df74f9196b"
      },
      "execution_count": 80,
      "outputs": [
        {
          "output_type": "execute_result",
          "data": {
            "text/plain": [
              "LinearRegression()"
            ],
            "text/html": [
              "<style>#sk-container-id-3 {color: black;background-color: white;}#sk-container-id-3 pre{padding: 0;}#sk-container-id-3 div.sk-toggleable {background-color: white;}#sk-container-id-3 label.sk-toggleable__label {cursor: pointer;display: block;width: 100%;margin-bottom: 0;padding: 0.3em;box-sizing: border-box;text-align: center;}#sk-container-id-3 label.sk-toggleable__label-arrow:before {content: \"▸\";float: left;margin-right: 0.25em;color: #696969;}#sk-container-id-3 label.sk-toggleable__label-arrow:hover:before {color: black;}#sk-container-id-3 div.sk-estimator:hover label.sk-toggleable__label-arrow:before {color: black;}#sk-container-id-3 div.sk-toggleable__content {max-height: 0;max-width: 0;overflow: hidden;text-align: left;background-color: #f0f8ff;}#sk-container-id-3 div.sk-toggleable__content pre {margin: 0.2em;color: black;border-radius: 0.25em;background-color: #f0f8ff;}#sk-container-id-3 input.sk-toggleable__control:checked~div.sk-toggleable__content {max-height: 200px;max-width: 100%;overflow: auto;}#sk-container-id-3 input.sk-toggleable__control:checked~label.sk-toggleable__label-arrow:before {content: \"▾\";}#sk-container-id-3 div.sk-estimator input.sk-toggleable__control:checked~label.sk-toggleable__label {background-color: #d4ebff;}#sk-container-id-3 div.sk-label input.sk-toggleable__control:checked~label.sk-toggleable__label {background-color: #d4ebff;}#sk-container-id-3 input.sk-hidden--visually {border: 0;clip: rect(1px 1px 1px 1px);clip: rect(1px, 1px, 1px, 1px);height: 1px;margin: -1px;overflow: hidden;padding: 0;position: absolute;width: 1px;}#sk-container-id-3 div.sk-estimator {font-family: monospace;background-color: #f0f8ff;border: 1px dotted black;border-radius: 0.25em;box-sizing: border-box;margin-bottom: 0.5em;}#sk-container-id-3 div.sk-estimator:hover {background-color: #d4ebff;}#sk-container-id-3 div.sk-parallel-item::after {content: \"\";width: 100%;border-bottom: 1px solid gray;flex-grow: 1;}#sk-container-id-3 div.sk-label:hover label.sk-toggleable__label {background-color: #d4ebff;}#sk-container-id-3 div.sk-serial::before {content: \"\";position: absolute;border-left: 1px solid gray;box-sizing: border-box;top: 0;bottom: 0;left: 50%;z-index: 0;}#sk-container-id-3 div.sk-serial {display: flex;flex-direction: column;align-items: center;background-color: white;padding-right: 0.2em;padding-left: 0.2em;position: relative;}#sk-container-id-3 div.sk-item {position: relative;z-index: 1;}#sk-container-id-3 div.sk-parallel {display: flex;align-items: stretch;justify-content: center;background-color: white;position: relative;}#sk-container-id-3 div.sk-item::before, #sk-container-id-3 div.sk-parallel-item::before {content: \"\";position: absolute;border-left: 1px solid gray;box-sizing: border-box;top: 0;bottom: 0;left: 50%;z-index: -1;}#sk-container-id-3 div.sk-parallel-item {display: flex;flex-direction: column;z-index: 1;position: relative;background-color: white;}#sk-container-id-3 div.sk-parallel-item:first-child::after {align-self: flex-end;width: 50%;}#sk-container-id-3 div.sk-parallel-item:last-child::after {align-self: flex-start;width: 50%;}#sk-container-id-3 div.sk-parallel-item:only-child::after {width: 0;}#sk-container-id-3 div.sk-dashed-wrapped {border: 1px dashed gray;margin: 0 0.4em 0.5em 0.4em;box-sizing: border-box;padding-bottom: 0.4em;background-color: white;}#sk-container-id-3 div.sk-label label {font-family: monospace;font-weight: bold;display: inline-block;line-height: 1.2em;}#sk-container-id-3 div.sk-label-container {text-align: center;}#sk-container-id-3 div.sk-container {/* jupyter's `normalize.less` sets `[hidden] { display: none; }` but bootstrap.min.css set `[hidden] { display: none !important; }` so we also need the `!important` here to be able to override the default hidden behavior on the sphinx rendered scikit-learn.org. See: https://github.com/scikit-learn/scikit-learn/issues/21755 */display: inline-block !important;position: relative;}#sk-container-id-3 div.sk-text-repr-fallback {display: none;}</style><div id=\"sk-container-id-3\" class=\"sk-top-container\"><div class=\"sk-text-repr-fallback\"><pre>LinearRegression()</pre><b>In a Jupyter environment, please rerun this cell to show the HTML representation or trust the notebook. <br />On GitHub, the HTML representation is unable to render, please try loading this page with nbviewer.org.</b></div><div class=\"sk-container\" hidden><div class=\"sk-item\"><div class=\"sk-estimator sk-toggleable\"><input class=\"sk-toggleable__control sk-hidden--visually\" id=\"sk-estimator-id-3\" type=\"checkbox\" checked><label for=\"sk-estimator-id-3\" class=\"sk-toggleable__label sk-toggleable__label-arrow\">LinearRegression</label><div class=\"sk-toggleable__content\"><pre>LinearRegression()</pre></div></div></div></div></div>"
            ]
          },
          "metadata": {},
          "execution_count": 80
        }
      ]
    },
    {
      "cell_type": "code",
      "source": [
        "y5_train_prediction=model_5.predict(x5_train)"
      ],
      "metadata": {
        "id": "fjqXrb1IX3CG"
      },
      "execution_count": 81,
      "outputs": []
    },
    {
      "cell_type": "code",
      "source": [
        "y5_train_prediction"
      ],
      "metadata": {
        "colab": {
          "base_uri": "https://localhost:8080/"
        },
        "id": "aZ14hMjUZbI-",
        "outputId": "ea20f018-c78b-4c1a-8590-68fb9423bdf3"
      },
      "execution_count": 82,
      "outputs": [
        {
          "output_type": "execute_result",
          "data": {
            "text/plain": [
              "array([47.32074756, 15.10754801, 46.95629589, 11.8601291 , 30.6116461 ,\n",
              "       35.23397379, 40.42310691, 45.50708821, 40.18349801, 36.83495501,\n",
              "       34.09696749, 37.70337476, 27.79080015, 34.70049596, 24.55194289,\n",
              "       37.13787565, 44.68117429, 52.45976408, 37.23468772, 47.94245238,\n",
              "       41.42892542, 42.58464002, 43.23127535, 45.21550123, 31.44630639,\n",
              "       44.81269688, 30.47900933, 39.20917476, 42.19179401, 54.35199522,\n",
              "       44.25551663, 34.41635164, 40.73665437, 45.86719965, 43.01690126,\n",
              "       39.93460642, 38.88477727, 48.29378192, 37.07582259, 45.12882333,\n",
              "       41.07510261, 34.66401256, 12.08437271, 43.15586926, 38.14849191,\n",
              "       43.15586926, 51.38405277, 45.93279355, 34.48071984, 38.91388548,\n",
              "       27.84017764, 51.68302612, 43.89392614, 16.18414497, 41.27000829,\n",
              "       47.34623383, 46.08764064, 43.82061184, 28.00014687, 44.91111927,\n",
              "       44.64675952, 53.42977007, 43.91060764, 44.86743814, 38.26205457,\n",
              "        6.172469  , 43.99788821, 47.56691057, 29.88167717, 29.4147168 ,\n",
              "       41.07637641, 34.32974357, 34.04540263, 47.34623383, 35.92608196,\n",
              "       38.74245726, 16.10217259, 11.64846965, 12.03833649, 49.60501506,\n",
              "       47.55430212, 40.74627888, 47.62074396, 29.67977628, 44.51935363,\n",
              "       45.64361553, 43.13016811, 44.1650313 , 40.49757119, 46.6095013 ,\n",
              "       15.37685644, 43.42524049, 45.9302199 , 43.13016811, 39.04184045,\n",
              "       44.48425306, 43.3457631 , 52.9628097 , 47.82164644, 31.04008806,\n",
              "       53.73353665, 33.96150555, 40.21575858, 30.25030087, 24.30413391,\n",
              "       35.53260587, 12.03833649, 55.06544543, 37.05010811, 34.56828629,\n",
              "       14.47303808, 45.20490438, 30.18809909,  8.35255619, 41.23164604,\n",
              "       31.29511728, 43.71538323, 15.84028079, 46.3763799 , 43.19663952,\n",
              "       49.2764069 , 49.10293041, 11.40436455, 27.09263458, 38.53542349,\n",
              "       26.33413388, 42.00410142, 45.55520682, 42.03605497, 54.81968391,\n",
              "       42.67866017, 39.94634299, 31.57797806, 48.79469044, 49.21370435,\n",
              "       30.80390232, 39.54025386, 47.72550438, 31.56604163, 47.43990649,\n",
              "       47.5722348 , 44.48347983, 48.36398192, 33.40900868, 30.18879254,\n",
              "       39.26127286, 40.64686945, 32.85616039, 43.27266569, 12.20670274,\n",
              "       41.88391944, 45.11358353, 45.45502444, 39.42350722, 44.05824105,\n",
              "       22.90631719, 33.44132603, 31.14640633, 45.83699368, 46.11502952,\n",
              "       15.86453537, 40.90674815, 50.67187498, 30.12248207, 46.71919743,\n",
              "       42.47741593, 45.75304359, 37.9917357 , 43.72638665, 45.26783962,\n",
              "       12.57423082, 36.32533327, 51.52511502, 47.86661749, 47.50559438,\n",
              "       39.18755341, 46.60817597, 50.34477706, 38.59229829, 31.49517709,\n",
              "       37.0701843 , 33.42617982, 41.5211826 , 42.03724503, 30.66907831,\n",
              "       36.34958785, 37.84562594, 48.495704  , 11.67272423, 32.36243753,\n",
              "       39.02079878, 29.61749281, 30.17472025, 37.93761564,  8.78941418,\n",
              "       32.91071029, 45.11595359, 45.96423268, 27.4132388 , 13.27761368,\n",
              "       50.89283782, 42.57106527, 33.3923034 , 40.80293442, 52.26446256,\n",
              "       54.6754689 , 34.78133943, 38.00808213, 30.80929697, 49.15106356,\n",
              "       23.96771964, 47.01437943, 40.79279837, 34.52572468, 31.89787033,\n",
              "       48.18070526, 42.15254198, 40.49310003, 41.66152093, 44.70059771,\n",
              "       25.56294071, 32.35898291, 47.96893929, 41.54484001, 47.84233935,\n",
              "        8.65072241, 44.74737244, 37.49684722, 46.99938327, 35.88847528,\n",
              "       38.91388548, 50.46830278, 36.09620677, 40.26091173, 40.16964826,\n",
              "       47.20192462, 26.58670677, 36.58844252, 37.00300444, 43.31947675,\n",
              "       51.38405277, 34.36929094, 24.22373311, 36.84534629, 43.51238236,\n",
              "       45.50312011, 36.13430934, 47.48981565, 45.62519391, 50.51538784,\n",
              "       42.34287948, 51.78794367, 12.57654259, 47.09318717, 19.44321144,\n",
              "       29.41819405, 13.30364613, 12.13810101, 29.11696502, 43.01011348,\n",
              "       50.1359295 , 49.42305646, 46.41816089, 46.8153983 , 37.07436269,\n",
              "       38.9243922 , 51.43965554, 42.13706194, 43.17531034, 40.38392395,\n",
              "       47.50559438, 40.43264704, 45.38336261, 54.66160959, 27.05061331,\n",
              "       53.42977007, 39.96199434, 16.32564794, 24.80504652, 36.21394915,\n",
              "       43.91060764, 53.89088265, 35.18795266, 42.68542485, 35.76541808,\n",
              "       47.92973267, 43.16707667, 46.61407849, 47.06308717])"
            ]
          },
          "metadata": {},
          "execution_count": 82
        }
      ]
    },
    {
      "cell_type": "code",
      "source": [
        "y_train"
      ],
      "metadata": {
        "colab": {
          "base_uri": "https://localhost:8080/"
        },
        "id": "i_fFxiVHZbFz",
        "outputId": "4d91f986-2530-4c1a-e06c-9c7252328dd8"
      },
      "execution_count": 83,
      "outputs": [
        {
          "output_type": "execute_result",
          "data": {
            "text/plain": [
              "7       46.7\n",
              "194     29.3\n",
              "19      47.7\n",
              "176     19.2\n",
              "367     20.9\n",
              "       ...  \n",
              "71      40.8\n",
              "106     47.1\n",
              "270    117.5\n",
              "348     53.7\n",
              "102     54.4\n",
              "Name: Y house price of unit area, Length: 289, dtype: float64"
            ]
          },
          "metadata": {},
          "execution_count": 83
        }
      ]
    },
    {
      "cell_type": "code",
      "source": [
        "y5_test_prediction=model_5.predict(x5_test)"
      ],
      "metadata": {
        "id": "zJRa6IoKZbBr"
      },
      "execution_count": 84,
      "outputs": []
    },
    {
      "cell_type": "code",
      "source": [
        "y5_test_prediction"
      ],
      "metadata": {
        "colab": {
          "base_uri": "https://localhost:8080/"
        },
        "id": "EyxeOBBJZa9s",
        "outputId": "1b92d5c0-dc9a-4672-91c8-d14a200beda1"
      },
      "execution_count": 85,
      "outputs": [
        {
          "output_type": "execute_result",
          "data": {
            "text/plain": [
              "array([47.55430212, 41.08372744, 44.25551663, 40.51685112, 27.43467608,\n",
              "       45.85435624, 44.70296876, 46.57752144, 23.86072119, 54.35199522,\n",
              "       34.63011363, 36.34958785, 37.34518438, 23.49428018, 36.02735916,\n",
              "       34.56828629, 44.01823263, 45.04246804, 29.9554971 , 43.96338099,\n",
              "        0.09450675, 35.291724  , 48.09455663, 45.54503941, 10.6006418 ,\n",
              "       39.9786752 , 11.9116313 , 42.79356737, 35.67204264, 38.09573519,\n",
              "       12.98819108, 40.13164278, 35.44632378, 27.09263458, 46.57230583,\n",
              "       32.08134705, 50.62714445, 13.2533591 , 49.8007962 , 40.83574406,\n",
              "       39.02898306, 40.92260381, 47.61743515, 37.68719274, 39.67028734,\n",
              "       46.64468542, 43.57375428, 19.40851794, 46.95629589, 45.93056809,\n",
              "       48.03966928, 48.79469044, 43.06419598, 43.00021216, 36.56049741,\n",
              "       14.20568662, 37.31495695, 34.30916207, 28.33264665, 46.09215428,\n",
              "       32.92580137, 32.83028385, 14.20568662,  8.3906898 ,  9.79703308,\n",
              "       34.33939647, 27.76485421, 46.75860125, 33.77722462, 30.85241149,\n",
              "       45.70501009, 39.07276122, 45.50942841, 45.00472078, 35.59161518,\n",
              "       37.74197487, 38.450681  , 37.63852526, 40.76300959, 33.88758966,\n",
              "       42.52501106, 43.31378324, 27.56441871, 39.40936415, 33.8977811 ,\n",
              "       30.61439071, 39.93460642, 45.36129734, 34.86088945, 39.96760778,\n",
              "       12.55982   , 41.4248276 , 41.87470921, 48.61756325, 46.67493517,\n",
              "       40.34138938, 34.2628639 , 45.3400411 , 32.29706728, 47.46416107,\n",
              "       29.69148895, 34.11146083, 43.36677103, 30.63583283, 48.77316661,\n",
              "       49.23795893, 30.34082584, 26.11105207, 40.9879696 , 38.89338679,\n",
              "       37.24238803, 40.02563617, 48.48697441, 45.26509346, 18.10869352,\n",
              "       41.23164604, 45.60093933, 43.63953623, 31.35568965, 31.75622985,\n",
              "       46.20909815, 14.58093806, 50.40747066, 46.60197459, 37.99631926])"
            ]
          },
          "metadata": {},
          "execution_count": 85
        }
      ]
    },
    {
      "cell_type": "code",
      "source": [
        "y_test"
      ],
      "metadata": {
        "colab": {
          "base_uri": "https://localhost:8080/"
        },
        "id": "iL5LNrIyZ8kw",
        "outputId": "fa5c7410-0ced-42d5-bc2f-081f6d00df8a"
      },
      "execution_count": 86,
      "outputs": [
        {
          "output_type": "execute_result",
          "data": {
            "text/plain": [
              "358    45.1\n",
              "350    42.3\n",
              "373    52.2\n",
              "399    37.3\n",
              "369    22.8\n",
              "       ... \n",
              "268    40.1\n",
              "148    45.1\n",
              "16     70.1\n",
              "66     50.7\n",
              "341    37.0\n",
              "Name: Y house price of unit area, Length: 125, dtype: float64"
            ]
          },
          "metadata": {},
          "execution_count": 86
        }
      ]
    },
    {
      "cell_type": "code",
      "source": [
        "#Accuracy\n",
        "accuracy=model_5.score(x5_test,y_test)"
      ],
      "metadata": {
        "id": "3N-WbCzhZ8hc"
      },
      "execution_count": 87,
      "outputs": []
    },
    {
      "cell_type": "code",
      "source": [
        "accuracy"
      ],
      "metadata": {
        "colab": {
          "base_uri": "https://localhost:8080/"
        },
        "id": "4qjji71EZ8c3",
        "outputId": "6009c255-e7c4-4e88-d3e2-582357afc304"
      },
      "execution_count": 88,
      "outputs": [
        {
          "output_type": "execute_result",
          "data": {
            "text/plain": [
              "0.5600638168604036"
            ]
          },
          "metadata": {},
          "execution_count": 88
        }
      ]
    },
    {
      "cell_type": "code",
      "source": [
        "from sklearn.metrics import mean_squared_error, mean_absolute_error\n",
        "MSE_5 = mean_squared_error(y_test,y5_test_prediction)\n"
      ],
      "metadata": {
        "id": "oS9hDqQRafta"
      },
      "execution_count": 89,
      "outputs": []
    },
    {
      "cell_type": "code",
      "source": [
        "MSE_5"
      ],
      "metadata": {
        "colab": {
          "base_uri": "https://localhost:8080/"
        },
        "id": "SwLnnDaMafpQ",
        "outputId": "117c460a-6edb-4a23-ba55-376985816d94"
      },
      "execution_count": 90,
      "outputs": [
        {
          "output_type": "execute_result",
          "data": {
            "text/plain": [
              "73.56837932850604"
            ]
          },
          "metadata": {},
          "execution_count": 90
        }
      ]
    },
    {
      "cell_type": "code",
      "source": [
        "model_5.intercept_"
      ],
      "metadata": {
        "colab": {
          "base_uri": "https://localhost:8080/"
        },
        "id": "uFOcedXRaflx",
        "outputId": "96afed1f-ea2c-4f55-8db1-bfb82d03e6ea"
      },
      "execution_count": 91,
      "outputs": [
        {
          "output_type": "execute_result",
          "data": {
            "text/plain": [
              "34.80019216997893"
            ]
          },
          "metadata": {},
          "execution_count": 91
        }
      ]
    },
    {
      "cell_type": "code",
      "source": [
        "model_5.coef_"
      ],
      "metadata": {
        "colab": {
          "base_uri": "https://localhost:8080/"
        },
        "id": "3YVFyFPFafiB",
        "outputId": "c65b533a-89e4-4dca-e666-ec4e18cc3692"
      },
      "execution_count": 92,
      "outputs": [
        {
          "output_type": "execute_result",
          "data": {
            "text/plain": [
              "array([  5.3565821 , -10.6235066 , -33.22005471,  10.74495298,\n",
              "        19.73028024,  -4.84428865])"
            ]
          },
          "metadata": {},
          "execution_count": 92
        }
      ]
    },
    {
      "cell_type": "code",
      "source": [
        "from sklearn.metrics import r2_score\n",
        "\n",
        "r_square = r2_score(y_test, y5_test_prediction)"
      ],
      "metadata": {
        "id": "nTZNifQoafe6"
      },
      "execution_count": 93,
      "outputs": []
    },
    {
      "cell_type": "code",
      "source": [
        "print(r_square)"
      ],
      "metadata": {
        "colab": {
          "base_uri": "https://localhost:8080/"
        },
        "id": "4OrAl1vZafaR",
        "outputId": "9f8e5479-645d-4e14-8d49-edc02aeb9fcd"
      },
      "execution_count": 94,
      "outputs": [
        {
          "output_type": "stream",
          "name": "stdout",
          "text": [
            "0.5600638168604036\n"
          ]
        }
      ]
    },
    {
      "cell_type": "markdown",
      "source": [
        "# **Summary**\n",
        "> **The performance of model has not affected by the feature scaling value.The performanc accuracy  both are same  which is 56%. But the value of intercept has occured variation on the basis of feature scaling value or not feature scaling value**\n",
        "\n",
        "1.**The value of intercept(without feature scaling) is -11350.740518771527**<br/>\n",
        "2.**The value of intercept(with feature scaling)is 37.983867630237256**\n",
        "\n",
        "\n",
        "# **For advanced problem**\n",
        "> **The performance accuracy is the same as above model.In this problem using scaling value ,the process of scaling MinMaxScaler.The value of intercept is 34.80019216997893**\n",
        "\n"
      ],
      "metadata": {
        "id": "R982cCMXK2Q-"
      }
    },
    {
      "cell_type": "code",
      "source": [],
      "metadata": {
        "id": "JMTNBgfWPPCt"
      },
      "execution_count": null,
      "outputs": []
    }
  ]
}